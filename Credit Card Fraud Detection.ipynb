{
 "cells": [
  {
   "cell_type": "markdown",
   "metadata": {},
   "source": [
    "<img src=\"https://s3.amazonaws.com/ByC_logo_prod/unit-26963.jpg\" alt=\"Alt text that describes the graphic\" width=\"600\" />"
   ]
  },
  {
   "cell_type": "markdown",
   "metadata": {},
   "source": [
    "# Title :  Credit Card Fraud Detection using Machine Learning."
   ]
  },
  {
   "cell_type": "markdown",
   "metadata": {},
   "source": [
    "# Table of contents\n",
    "\n",
    "- [Abstract](#Abstract)\n",
    "- [Introduction](#Introduction)\n",
    "- [1. The problem](#1.-The-problem)\n",
    "- [2. Purpose of the study](#2.-Purpose-of-the-study)\n",
    "- [3. Project description](#3.-Project-description)\n",
    "    - [3.1 Hypothesis](#3.1.-Hypothesis)\n",
    "    - [3.2 System Mapping](#3.2.-System-Mapping)\n",
    "    - [3.3 Workflow](#3.3.-Workflow)\n",
    "    - [3.4 Methods](#3.4.-Methods)\n",
    "    - [3.5 Analysis and Results](#3.5.-Analysis-and-Results)\n",
    "- [Conclusion](#Conclusion)\n",
    "- [References](#References)"
   ]
  },
  {
   "cell_type": "markdown",
   "metadata": {},
   "source": [
    "##  Abstract\n",
    " This project illustrates the modelling of a dataset using machine learning with credit card fraud detection. The credit card fraud detection problem includes modelling past credit card transactions with the data of the ones that turned out to be fraud. The data set used in the project is a public open-source dataset downloaded from Kaggle which contains past credit card transactions of 917 customers through 693 merchants. The data set which is large contains 555,719 transactions of which 2145 are fraud and the rest are normal. The credit card fraud detection is a typical classification problem which involved the use of machine learning classification algorithms to create models which will were fitted with the training dataset. Exploratory data analysis conducted on the dataset reveals that it is highly unbalanced due to 0.4% of the transactions being fraudulent. The data is sampled and a fraction (0.1) of the data is split into 90% training and  10% testing set. The training set is balanced through over sampling with the Imblearn library. The balanced training dataset is fitted into the built models of the  Support Vector Machines, Decision Tree, K-Nearest Neighbors and  Random Forest Classification algorithms. The testing data set is used in the prediction of fraud cases and the models were evaluated using the accuracy, precision, recall  and f1 score. The AUC_ROC(Area under the Receiver operator Characteristic curve) was used in the final evaluation of the models. The results revealed that the SVM had the best accuracy of 90.3% but the least fraud percentage detection of 9.7% while the Random Forest had the most fraud percentage detection of 39.62%. Therefore, the best performing model is the Random Forest Classifier algorithm."
   ]
  },
  {
   "cell_type": "markdown",
   "metadata": {},
   "source": [
    "## Introduction\n",
    "Credit card fraud can be defined as a case where a fraudster uses someone else’s credit card for personal reasons while the owner and the card issuing authorities are unaware of the fact that the card is being used. Fraud detection involves the careful study and monitoring of transactions by  population of credit card users  with the aim of estimating, perceiving and preventing fraud, intrusion and theft. \n",
    "Fraud detection is essentially a rare event problem, which has been variously called outlier analysis, anomaly detection, exception mining, mining rare classes, mining imbalanced data etc. The number of fraud transactions is usually a very low fraction of the total transactions. Hence the task of detecting fraud transactions in an accurate and efficient manner is fairly difficult and challenging. hence the development of efficient models which will predict and detect fraud transactions is essential.The exploratory data analysis conducted on the credit card data reveals that it contains 555,719 transactions performed conducted by 917 customers through 693 different merchants.The number of fraud transactions are only 0.4% of total transactions which indicates a very high unbalanced dataset. Hence,we are faced with a classification problem which can be solved through machine learning methods.\n",
    "Machine Learning is divided into supervised and unsupervised learning. Supervised learning is futher divided into classification and regression.Fraud detection will require the use of classification algorithm models. Before the classification algorithms are selected, the highly unbalanced data can be balanced through sampling methods(under and over sampling) and then data is splitted into testing and training data. The training data is fitted into the model classifier and the test data is used to predict the outcome of fraud transaction. The Support vector Machines, Random Tree Forest, K Nearest Neighbour(KNN) and Decison Tree classifier models were built and fitted with the balanced training data.\n",
    "The best model is selected and evaluated through the metrics accuracy,precision,recall and f1 score. Finally,the ROC_AUC(Receiver operation Characteristic) curve score reveals the model with the best performance. "
   ]
  },
  {
   "cell_type": "markdown",
   "metadata": {},
   "source": [
    "## 1. The problem\n",
    " The credit card fraud detection data faces three major challenges when being analyzed\n",
    " \n",
    "####  Changing fraud patterns over time \n",
    "This one is the toughest problems to address since the fraudsters are always in the lookout to find new and innovative ways to get around the fraud detection systems. Thus it becomes very important for machine learning models to be updated with the evolved patterns to detect fraud. This results in a decrease in the model’s performance and efficiency. Thus the machine learning models need to keep updating or fail in their objectives.\n",
    " \n",
    "#### Large dataset  \n",
    "The dataset is a very large one containing 555,719 transactions.The magnitude of the data will pose a problem for the classification model that will be fitted with the training data. The data processing speed due to the large dataset wil be very slow and will cost more time in analysis. This problem is solved through sampling a fraction of the data(10% of the data) and using this small fraction for model fitting and selection.\n",
    "\n",
    "#### Highly unbalanced data \n",
    "Because this is a fraud detection problem,the percentage of fraud transaction is 0.4% of the total transactions as revealed by exploratory data analysis. This poses another challenge because the classifcation models are not prepared to deal with unbalanced data. This problem is solved by balancing the small fraction of the already taken from the larger dataset.The unbalanced training dataset is taken through the process of oversampling and used in fitting the models created with the classification algorithms.\n",
    "\n",
    "\n",
    "\n",
    "\n",
    "\n",
    "[Back to top](#Table-of-contents)"
   ]
  },
  {
   "cell_type": "markdown",
   "metadata": {},
   "source": [
    "## 2. Purpose of the study\n",
    "The purpose of the study is to leverage the vast amount of data collected from online transactions and model it in such a way that allows for the prediction of fraud in future transactions.\n",
    "Every year,companies in the United States loose billions of dollars in sales to fraud transactions. Predicting and preventing fraud transactions will help companies improve financial security and prevent the loss of revenue to fraud.It will also help protect customers and improve their trust in the services offered by the companies.\n",
    "\n",
    "The objectives of the project are as follows:\n",
    "\n",
    "1 To tackle the high unbalanced nature of the training data through oversampling mehtods\n",
    "\n",
    "2 To build,select and evaluate an accurate classification model that will be fitted \n",
    "and will be used in predicting fraud transactions in the dataset.\n",
    "\n",
    "3 To deploy the selected model which can be applied in different business transactions for the purpose of detecting and preventing credit card fraud. \n",
    "\n",
    "\n",
    "[Back to top](#Table-of-contents)"
   ]
  },
  {
   "cell_type": "markdown",
   "metadata": {},
   "source": [
    "## 3. Project description\n",
    "\n",
    "\n",
    "[Back to top](#Table-of-contents)"
   ]
  },
  {
   "cell_type": "markdown",
   "metadata": {},
   "source": [
    "### 3.1 Hypothesis\n",
    "In this project,we want to predict the nature of future credit card transactions using the past transactions. We want to answer these questions:\n",
    "\n",
    "Is the transaction conducted by the customer normal or fraudulent ?\n",
    "\n",
    "What is the probability of the occurence of fraud in future transactions using the past credit card transactions?\n",
    "We will be using the mean number of transaction(normal or fraud) to compare the null and the alternative hypothesis.\n",
    "\n",
    "The null-hypothesis(Ho) states be that there is no difference between the probability of fraud transaction and the mean number of transactions. The validity of the null hypothesis proves that the probability of normal transaction is far greater than that of fraud transaction.\n",
    "\n",
    "The alternative hypothesis(H1) states that there is a significant difference between the probability of the fraud transaction and the mean.\n",
    "The hypothesis test will be conducted to prove or disprove the null hypothesis.\n",
    "\n",
    "[Back to top](#Table-of-contents)"
   ]
  },
  {
   "cell_type": "code",
   "execution_count": 11,
   "metadata": {},
   "outputs": [],
   "source": [
    "import numpy as np\n",
    "import pandas as pd\n",
    "from scipy import stats"
   ]
  },
  {
   "cell_type": "code",
   "execution_count": 12,
   "metadata": {},
   "outputs": [
    {
     "data": {
      "text/html": [
       "<div>\n",
       "<style scoped>\n",
       "    .dataframe tbody tr th:only-of-type {\n",
       "        vertical-align: middle;\n",
       "    }\n",
       "\n",
       "    .dataframe tbody tr th {\n",
       "        vertical-align: top;\n",
       "    }\n",
       "\n",
       "    .dataframe thead th {\n",
       "        text-align: right;\n",
       "    }\n",
       "</style>\n",
       "<table border=\"1\" class=\"dataframe\">\n",
       "  <thead>\n",
       "    <tr style=\"text-align: right;\">\n",
       "      <th></th>\n",
       "      <th>Unnamed: 0</th>\n",
       "      <th>trans_date_trans_time</th>\n",
       "      <th>cc_num</th>\n",
       "      <th>merchant</th>\n",
       "      <th>category</th>\n",
       "      <th>amt</th>\n",
       "      <th>first</th>\n",
       "      <th>last</th>\n",
       "      <th>gender</th>\n",
       "      <th>street</th>\n",
       "      <th>...</th>\n",
       "      <th>lat</th>\n",
       "      <th>long</th>\n",
       "      <th>city_pop</th>\n",
       "      <th>job</th>\n",
       "      <th>dob</th>\n",
       "      <th>trans_num</th>\n",
       "      <th>unix_time</th>\n",
       "      <th>merch_lat</th>\n",
       "      <th>merch_long</th>\n",
       "      <th>is_fraud</th>\n",
       "    </tr>\n",
       "  </thead>\n",
       "  <tbody>\n",
       "    <tr>\n",
       "      <th>0</th>\n",
       "      <td>0</td>\n",
       "      <td>2020-06-21 12:14:25</td>\n",
       "      <td>2291163933867244</td>\n",
       "      <td>fraud_Kirlin and Sons</td>\n",
       "      <td>personal_care</td>\n",
       "      <td>2.86</td>\n",
       "      <td>Jeff</td>\n",
       "      <td>Elliott</td>\n",
       "      <td>M</td>\n",
       "      <td>351 Darlene Green</td>\n",
       "      <td>...</td>\n",
       "      <td>33.9659</td>\n",
       "      <td>-80.9355</td>\n",
       "      <td>333497</td>\n",
       "      <td>Mechanical engineer</td>\n",
       "      <td>1968-03-19</td>\n",
       "      <td>2da90c7d74bd46a0caf3777415b3ebd3</td>\n",
       "      <td>1371816865</td>\n",
       "      <td>33.986391</td>\n",
       "      <td>-81.200714</td>\n",
       "      <td>0</td>\n",
       "    </tr>\n",
       "    <tr>\n",
       "      <th>1</th>\n",
       "      <td>1</td>\n",
       "      <td>2020-06-21 12:14:33</td>\n",
       "      <td>3573030041201292</td>\n",
       "      <td>fraud_Sporer-Keebler</td>\n",
       "      <td>personal_care</td>\n",
       "      <td>29.84</td>\n",
       "      <td>Joanne</td>\n",
       "      <td>Williams</td>\n",
       "      <td>F</td>\n",
       "      <td>3638 Marsh Union</td>\n",
       "      <td>...</td>\n",
       "      <td>40.3207</td>\n",
       "      <td>-110.4360</td>\n",
       "      <td>302</td>\n",
       "      <td>Sales professional, IT</td>\n",
       "      <td>1990-01-17</td>\n",
       "      <td>324cc204407e99f51b0d6ca0055005e7</td>\n",
       "      <td>1371816873</td>\n",
       "      <td>39.450498</td>\n",
       "      <td>-109.960431</td>\n",
       "      <td>0</td>\n",
       "    </tr>\n",
       "    <tr>\n",
       "      <th>2</th>\n",
       "      <td>2</td>\n",
       "      <td>2020-06-21 12:14:53</td>\n",
       "      <td>3598215285024754</td>\n",
       "      <td>fraud_Swaniawski, Nitzsche and Welch</td>\n",
       "      <td>health_fitness</td>\n",
       "      <td>41.28</td>\n",
       "      <td>Ashley</td>\n",
       "      <td>Lopez</td>\n",
       "      <td>F</td>\n",
       "      <td>9333 Valentine Point</td>\n",
       "      <td>...</td>\n",
       "      <td>40.6729</td>\n",
       "      <td>-73.5365</td>\n",
       "      <td>34496</td>\n",
       "      <td>Librarian, public</td>\n",
       "      <td>1970-10-21</td>\n",
       "      <td>c81755dbbbea9d5c77f094348a7579be</td>\n",
       "      <td>1371816893</td>\n",
       "      <td>40.495810</td>\n",
       "      <td>-74.196111</td>\n",
       "      <td>0</td>\n",
       "    </tr>\n",
       "    <tr>\n",
       "      <th>3</th>\n",
       "      <td>3</td>\n",
       "      <td>2020-06-21 12:15:15</td>\n",
       "      <td>3591919803438423</td>\n",
       "      <td>fraud_Haley Group</td>\n",
       "      <td>misc_pos</td>\n",
       "      <td>60.05</td>\n",
       "      <td>Brian</td>\n",
       "      <td>Williams</td>\n",
       "      <td>M</td>\n",
       "      <td>32941 Krystal Mill Apt. 552</td>\n",
       "      <td>...</td>\n",
       "      <td>28.5697</td>\n",
       "      <td>-80.8191</td>\n",
       "      <td>54767</td>\n",
       "      <td>Set designer</td>\n",
       "      <td>1987-07-25</td>\n",
       "      <td>2159175b9efe66dc301f149d3d5abf8c</td>\n",
       "      <td>1371816915</td>\n",
       "      <td>28.812398</td>\n",
       "      <td>-80.883061</td>\n",
       "      <td>0</td>\n",
       "    </tr>\n",
       "    <tr>\n",
       "      <th>4</th>\n",
       "      <td>4</td>\n",
       "      <td>2020-06-21 12:15:17</td>\n",
       "      <td>3526826139003047</td>\n",
       "      <td>fraud_Johnston-Casper</td>\n",
       "      <td>travel</td>\n",
       "      <td>3.19</td>\n",
       "      <td>Nathan</td>\n",
       "      <td>Massey</td>\n",
       "      <td>M</td>\n",
       "      <td>5783 Evan Roads Apt. 465</td>\n",
       "      <td>...</td>\n",
       "      <td>44.2529</td>\n",
       "      <td>-85.0170</td>\n",
       "      <td>1126</td>\n",
       "      <td>Furniture designer</td>\n",
       "      <td>1955-07-06</td>\n",
       "      <td>57ff021bd3f328f8738bb535c302a31b</td>\n",
       "      <td>1371816917</td>\n",
       "      <td>44.959148</td>\n",
       "      <td>-85.884734</td>\n",
       "      <td>0</td>\n",
       "    </tr>\n",
       "  </tbody>\n",
       "</table>\n",
       "<p>5 rows × 23 columns</p>\n",
       "</div>"
      ],
      "text/plain": [
       "   Unnamed: 0 trans_date_trans_time            cc_num  \\\n",
       "0           0   2020-06-21 12:14:25  2291163933867244   \n",
       "1           1   2020-06-21 12:14:33  3573030041201292   \n",
       "2           2   2020-06-21 12:14:53  3598215285024754   \n",
       "3           3   2020-06-21 12:15:15  3591919803438423   \n",
       "4           4   2020-06-21 12:15:17  3526826139003047   \n",
       "\n",
       "                               merchant        category    amt   first  \\\n",
       "0                 fraud_Kirlin and Sons   personal_care   2.86    Jeff   \n",
       "1                  fraud_Sporer-Keebler   personal_care  29.84  Joanne   \n",
       "2  fraud_Swaniawski, Nitzsche and Welch  health_fitness  41.28  Ashley   \n",
       "3                     fraud_Haley Group        misc_pos  60.05   Brian   \n",
       "4                 fraud_Johnston-Casper          travel   3.19  Nathan   \n",
       "\n",
       "       last gender                       street  ...      lat      long  \\\n",
       "0   Elliott      M            351 Darlene Green  ...  33.9659  -80.9355   \n",
       "1  Williams      F             3638 Marsh Union  ...  40.3207 -110.4360   \n",
       "2     Lopez      F         9333 Valentine Point  ...  40.6729  -73.5365   \n",
       "3  Williams      M  32941 Krystal Mill Apt. 552  ...  28.5697  -80.8191   \n",
       "4    Massey      M     5783 Evan Roads Apt. 465  ...  44.2529  -85.0170   \n",
       "\n",
       "   city_pop                     job         dob  \\\n",
       "0    333497     Mechanical engineer  1968-03-19   \n",
       "1       302  Sales professional, IT  1990-01-17   \n",
       "2     34496       Librarian, public  1970-10-21   \n",
       "3     54767            Set designer  1987-07-25   \n",
       "4      1126      Furniture designer  1955-07-06   \n",
       "\n",
       "                          trans_num   unix_time  merch_lat  merch_long  \\\n",
       "0  2da90c7d74bd46a0caf3777415b3ebd3  1371816865  33.986391  -81.200714   \n",
       "1  324cc204407e99f51b0d6ca0055005e7  1371816873  39.450498 -109.960431   \n",
       "2  c81755dbbbea9d5c77f094348a7579be  1371816893  40.495810  -74.196111   \n",
       "3  2159175b9efe66dc301f149d3d5abf8c  1371816915  28.812398  -80.883061   \n",
       "4  57ff021bd3f328f8738bb535c302a31b  1371816917  44.959148  -85.884734   \n",
       "\n",
       "   is_fraud  \n",
       "0         0  \n",
       "1         0  \n",
       "2         0  \n",
       "3         0  \n",
       "4         0  \n",
       "\n",
       "[5 rows x 23 columns]"
      ]
     },
     "execution_count": 12,
     "metadata": {},
     "output_type": "execute_result"
    }
   ],
   "source": [
    "creditcard = pd.read_csv(\"creditcard.csv\")\n",
    "creditcard.head()"
   ]
  },
  {
   "cell_type": "code",
   "execution_count": 13,
   "metadata": {},
   "outputs": [
    {
     "data": {
      "text/plain": [
       "0.0038598644278853163"
      ]
     },
     "execution_count": 13,
     "metadata": {},
     "output_type": "execute_result"
    }
   ],
   "source": [
    "Mean = creditcard.is_fraud.mean()\n",
    "Mean"
   ]
  },
  {
   "cell_type": "code",
   "execution_count": 15,
   "metadata": {},
   "outputs": [],
   "source": [
    "Prob = creditcard.is_fraud==1/creditcard.is_fraud"
   ]
  },
  {
   "cell_type": "code",
   "execution_count": 16,
   "metadata": {},
   "outputs": [
    {
     "data": {
      "text/plain": [
       "Ttest_1sampResult(statistic=0.0, pvalue=1.0)"
      ]
     },
     "execution_count": 16,
     "metadata": {},
     "output_type": "execute_result"
    }
   ],
   "source": [
    "#Conducting T test\n",
    "stats.ttest_1samp(Prob, Mean)"
   ]
  },
  {
   "cell_type": "markdown",
   "metadata": {},
   "source": [
    "The P value of 1.0 shows that the mean is equal to the probability of the transactions appearing as fraud.Therefore we accept the null hypothesis Ho"
   ]
  },
  {
   "cell_type": "markdown",
   "metadata": {},
   "source": [
    "### 3.2 System Mapping\n",
    " The probabilities of the normal and fraud transactions can be estimated through the use of the Bayes theorem. The mathematical equation is  defined as follows:\n",
    "                                                                 $\n",
    "                                                      P(F)=  P(F).P(x|F)/(P(x) \n",
    "                                                                  $\n",
    " where the denominator P(x) is calculated as:\n",
    "                                                                  $\n",
    "                                                  P(x) = P(F)P(x|F) + P(NF)P(x|NF)\n",
    "                                                                   $\n",
    "               \n",
    "               \n",
    "$P(F)$ = Probability that a transaction is fraud\n",
    "\n",
    "$P(NF)$ = Probability that a transaction is normal\n",
    "\n",
    "$P(x|F)$ = Probability that a transaction is fraud given the observed user behavior  $x$\n",
    "\n",
    "$P(x|NF)$ = Probability that a transaction is normal given the observed user behavior  $x$\n",
    "\n",
    "$P(x)$  = Probability of the observed user behavior  $x$\n",
    "\n",
    "\n",
    "[Back to top](#Table-of-contents)"
   ]
  },
  {
   "cell_type": "markdown",
   "metadata": {},
   "source": [
    "### 3.3 Workflow\n",
    "\n",
    "What's the process you are going to follow to solve the problem based on the Problem-Solving Framework:\n",
    "\n",
    "- Define the problem \n",
    "- Map the system \n",
    "- Define suitable metrics \n",
    "- Select modeling tools \n",
    "- Implement model  \n",
    "- Evaluate model \n",
    "- Deploy the final model \n",
    "\n",
    "[Back to top](#Table-of-contents)"
   ]
  },
  {
   "cell_type": "markdown",
   "metadata": {},
   "source": [
    "### 3.4 Methods\n",
    "The fraud detection problem is a classification problem hence classification models and algorithms are required for model fitting and selection\n",
    "\n",
    "#### Data Balancing \n",
    "The unbalanced training data set was transformed into balanced data through the use of oversampling methods. Oversampling is preferred to undersampling because no data is lost after transformation. The imblearn library will be used for oversampling. The imblearn library is imported as SMOTETomek and RandomOverSampler for oversampling the unbalanaced data.\n",
    "\n",
    "#### Model Selection\n",
    "The following classification machine learning alagorithms will be used in building a model for fraud detection\n",
    "\n",
    "Decision Trees Classifier: DTC is a non-parametric supervised learning method that will be used for classification of fraud detection. The goal is to create a model that predicts the value of  the fraud variable by learning the simple decision rules inferred from the credit card data features\n",
    "\n",
    "Support Vector Machines : Support Vector machines is a supervised learning method that will be used in building a model for performing binary and multi-class classification of the credit card fraud dataset.\n",
    "\n",
    "K Nearest Neighbours : \n",
    "Neighbors-based classification is a type of instance-based learning or non-generalizing learning.It will not attempt to construct a general internal model, but it will simply store instances of the training data.\n",
    "\n",
    "Random Forest Classifier: A random forest is a meta estimator that fits a number of decision tree classifiers on various sub-samples of the dataset and uses averaging to improve the predictive accuracy and control over-fitting.\n",
    "\n",
    "\n",
    "#### Model Evaluation\n",
    "\n",
    "Classification Scores:\n",
    "The following classification metrics will be used in the selection and evaluation of the models\n",
    "\n",
    "Accuracy : The balanced accuracy in binary and multiclass classification problems is used for imbalanced datasets. It is defined as the average of recall obtained on each class.\n",
    "\n",
    "Precision:The precision is the ratio tp / (tp + fp) where tp is the number of true positives and fp the number of false positives.\n",
    "\n",
    "Recall:The recall is the ratio tp / (tp + fn) where tp is the number of true positives and fn the number of false negatives. The recall is intuitively the ability of the classifier to find all the positive samples.\n",
    "\n",
    "F1 Score: The F1 score can be interpreted as a weighted average of the precision and recall, where an F1 score reaches its best value at 1 and worst score at 0\n",
    "\n",
    "ROC_AUC : The Receiver Operating Characteristic (ROC) curve is a graph with the x-axis values as the False Positive Rate (FPR) and the y-axis values as the True Positive Rate (TPR). The Area Under the Curve (AUC) for the ROC represents how capable a model is at correctly classifying a sample.\n",
    "\n",
    "\n",
    "\n",
    "[Back to top](#Table-of-contents)"
   ]
  },
  {
   "cell_type": "markdown",
   "metadata": {},
   "source": [
    "## 3.5 Analysis and Results\n",
    "\n",
    "###  Data Cleaning and Exploratory Data Analysis\n",
    "\n",
    "\n",
    "[Back to top](#Table-of-contents)"
   ]
  },
  {
   "cell_type": "code",
   "execution_count": 1,
   "metadata": {},
   "outputs": [],
   "source": [
    "import numpy as np \n",
    "import pandas as pd\n",
    "import matplotlib.pyplot as plt\n",
    "import seaborn as sns\n",
    "import warnings\n",
    "warnings.filterwarnings('ignore')"
   ]
  },
  {
   "cell_type": "code",
   "execution_count": 2,
   "metadata": {},
   "outputs": [
    {
     "data": {
      "text/html": [
       "<div>\n",
       "<style scoped>\n",
       "    .dataframe tbody tr th:only-of-type {\n",
       "        vertical-align: middle;\n",
       "    }\n",
       "\n",
       "    .dataframe tbody tr th {\n",
       "        vertical-align: top;\n",
       "    }\n",
       "\n",
       "    .dataframe thead th {\n",
       "        text-align: right;\n",
       "    }\n",
       "</style>\n",
       "<table border=\"1\" class=\"dataframe\">\n",
       "  <thead>\n",
       "    <tr style=\"text-align: right;\">\n",
       "      <th></th>\n",
       "      <th>Unnamed: 0</th>\n",
       "      <th>trans_date_trans_time</th>\n",
       "      <th>cc_num</th>\n",
       "      <th>merchant</th>\n",
       "      <th>category</th>\n",
       "      <th>amt</th>\n",
       "      <th>first</th>\n",
       "      <th>last</th>\n",
       "      <th>gender</th>\n",
       "      <th>street</th>\n",
       "      <th>...</th>\n",
       "      <th>lat</th>\n",
       "      <th>long</th>\n",
       "      <th>city_pop</th>\n",
       "      <th>job</th>\n",
       "      <th>dob</th>\n",
       "      <th>trans_num</th>\n",
       "      <th>unix_time</th>\n",
       "      <th>merch_lat</th>\n",
       "      <th>merch_long</th>\n",
       "      <th>is_fraud</th>\n",
       "    </tr>\n",
       "  </thead>\n",
       "  <tbody>\n",
       "    <tr>\n",
       "      <th>0</th>\n",
       "      <td>0</td>\n",
       "      <td>2020-06-21 12:14:25</td>\n",
       "      <td>2291163933867244</td>\n",
       "      <td>fraud_Kirlin and Sons</td>\n",
       "      <td>personal_care</td>\n",
       "      <td>2.86</td>\n",
       "      <td>Jeff</td>\n",
       "      <td>Elliott</td>\n",
       "      <td>M</td>\n",
       "      <td>351 Darlene Green</td>\n",
       "      <td>...</td>\n",
       "      <td>33.9659</td>\n",
       "      <td>-80.9355</td>\n",
       "      <td>333497</td>\n",
       "      <td>Mechanical engineer</td>\n",
       "      <td>1968-03-19</td>\n",
       "      <td>2da90c7d74bd46a0caf3777415b3ebd3</td>\n",
       "      <td>1371816865</td>\n",
       "      <td>33.986391</td>\n",
       "      <td>-81.200714</td>\n",
       "      <td>0</td>\n",
       "    </tr>\n",
       "    <tr>\n",
       "      <th>1</th>\n",
       "      <td>1</td>\n",
       "      <td>2020-06-21 12:14:33</td>\n",
       "      <td>3573030041201292</td>\n",
       "      <td>fraud_Sporer-Keebler</td>\n",
       "      <td>personal_care</td>\n",
       "      <td>29.84</td>\n",
       "      <td>Joanne</td>\n",
       "      <td>Williams</td>\n",
       "      <td>F</td>\n",
       "      <td>3638 Marsh Union</td>\n",
       "      <td>...</td>\n",
       "      <td>40.3207</td>\n",
       "      <td>-110.4360</td>\n",
       "      <td>302</td>\n",
       "      <td>Sales professional, IT</td>\n",
       "      <td>1990-01-17</td>\n",
       "      <td>324cc204407e99f51b0d6ca0055005e7</td>\n",
       "      <td>1371816873</td>\n",
       "      <td>39.450498</td>\n",
       "      <td>-109.960431</td>\n",
       "      <td>0</td>\n",
       "    </tr>\n",
       "    <tr>\n",
       "      <th>2</th>\n",
       "      <td>2</td>\n",
       "      <td>2020-06-21 12:14:53</td>\n",
       "      <td>3598215285024754</td>\n",
       "      <td>fraud_Swaniawski, Nitzsche and Welch</td>\n",
       "      <td>health_fitness</td>\n",
       "      <td>41.28</td>\n",
       "      <td>Ashley</td>\n",
       "      <td>Lopez</td>\n",
       "      <td>F</td>\n",
       "      <td>9333 Valentine Point</td>\n",
       "      <td>...</td>\n",
       "      <td>40.6729</td>\n",
       "      <td>-73.5365</td>\n",
       "      <td>34496</td>\n",
       "      <td>Librarian, public</td>\n",
       "      <td>1970-10-21</td>\n",
       "      <td>c81755dbbbea9d5c77f094348a7579be</td>\n",
       "      <td>1371816893</td>\n",
       "      <td>40.495810</td>\n",
       "      <td>-74.196111</td>\n",
       "      <td>0</td>\n",
       "    </tr>\n",
       "    <tr>\n",
       "      <th>3</th>\n",
       "      <td>3</td>\n",
       "      <td>2020-06-21 12:15:15</td>\n",
       "      <td>3591919803438423</td>\n",
       "      <td>fraud_Haley Group</td>\n",
       "      <td>misc_pos</td>\n",
       "      <td>60.05</td>\n",
       "      <td>Brian</td>\n",
       "      <td>Williams</td>\n",
       "      <td>M</td>\n",
       "      <td>32941 Krystal Mill Apt. 552</td>\n",
       "      <td>...</td>\n",
       "      <td>28.5697</td>\n",
       "      <td>-80.8191</td>\n",
       "      <td>54767</td>\n",
       "      <td>Set designer</td>\n",
       "      <td>1987-07-25</td>\n",
       "      <td>2159175b9efe66dc301f149d3d5abf8c</td>\n",
       "      <td>1371816915</td>\n",
       "      <td>28.812398</td>\n",
       "      <td>-80.883061</td>\n",
       "      <td>0</td>\n",
       "    </tr>\n",
       "    <tr>\n",
       "      <th>4</th>\n",
       "      <td>4</td>\n",
       "      <td>2020-06-21 12:15:17</td>\n",
       "      <td>3526826139003047</td>\n",
       "      <td>fraud_Johnston-Casper</td>\n",
       "      <td>travel</td>\n",
       "      <td>3.19</td>\n",
       "      <td>Nathan</td>\n",
       "      <td>Massey</td>\n",
       "      <td>M</td>\n",
       "      <td>5783 Evan Roads Apt. 465</td>\n",
       "      <td>...</td>\n",
       "      <td>44.2529</td>\n",
       "      <td>-85.0170</td>\n",
       "      <td>1126</td>\n",
       "      <td>Furniture designer</td>\n",
       "      <td>1955-07-06</td>\n",
       "      <td>57ff021bd3f328f8738bb535c302a31b</td>\n",
       "      <td>1371816917</td>\n",
       "      <td>44.959148</td>\n",
       "      <td>-85.884734</td>\n",
       "      <td>0</td>\n",
       "    </tr>\n",
       "  </tbody>\n",
       "</table>\n",
       "<p>5 rows × 23 columns</p>\n",
       "</div>"
      ],
      "text/plain": [
       "   Unnamed: 0 trans_date_trans_time            cc_num  \\\n",
       "0           0   2020-06-21 12:14:25  2291163933867244   \n",
       "1           1   2020-06-21 12:14:33  3573030041201292   \n",
       "2           2   2020-06-21 12:14:53  3598215285024754   \n",
       "3           3   2020-06-21 12:15:15  3591919803438423   \n",
       "4           4   2020-06-21 12:15:17  3526826139003047   \n",
       "\n",
       "                               merchant        category    amt   first  \\\n",
       "0                 fraud_Kirlin and Sons   personal_care   2.86    Jeff   \n",
       "1                  fraud_Sporer-Keebler   personal_care  29.84  Joanne   \n",
       "2  fraud_Swaniawski, Nitzsche and Welch  health_fitness  41.28  Ashley   \n",
       "3                     fraud_Haley Group        misc_pos  60.05   Brian   \n",
       "4                 fraud_Johnston-Casper          travel   3.19  Nathan   \n",
       "\n",
       "       last gender                       street  ...      lat      long  \\\n",
       "0   Elliott      M            351 Darlene Green  ...  33.9659  -80.9355   \n",
       "1  Williams      F             3638 Marsh Union  ...  40.3207 -110.4360   \n",
       "2     Lopez      F         9333 Valentine Point  ...  40.6729  -73.5365   \n",
       "3  Williams      M  32941 Krystal Mill Apt. 552  ...  28.5697  -80.8191   \n",
       "4    Massey      M     5783 Evan Roads Apt. 465  ...  44.2529  -85.0170   \n",
       "\n",
       "   city_pop                     job         dob  \\\n",
       "0    333497     Mechanical engineer  1968-03-19   \n",
       "1       302  Sales professional, IT  1990-01-17   \n",
       "2     34496       Librarian, public  1970-10-21   \n",
       "3     54767            Set designer  1987-07-25   \n",
       "4      1126      Furniture designer  1955-07-06   \n",
       "\n",
       "                          trans_num   unix_time  merch_lat  merch_long  \\\n",
       "0  2da90c7d74bd46a0caf3777415b3ebd3  1371816865  33.986391  -81.200714   \n",
       "1  324cc204407e99f51b0d6ca0055005e7  1371816873  39.450498 -109.960431   \n",
       "2  c81755dbbbea9d5c77f094348a7579be  1371816893  40.495810  -74.196111   \n",
       "3  2159175b9efe66dc301f149d3d5abf8c  1371816915  28.812398  -80.883061   \n",
       "4  57ff021bd3f328f8738bb535c302a31b  1371816917  44.959148  -85.884734   \n",
       "\n",
       "   is_fraud  \n",
       "0         0  \n",
       "1         0  \n",
       "2         0  \n",
       "3         0  \n",
       "4         0  \n",
       "\n",
       "[5 rows x 23 columns]"
      ]
     },
     "execution_count": 2,
     "metadata": {},
     "output_type": "execute_result"
    }
   ],
   "source": [
    "# Reading the first five rows of dataset\n",
    "creditcard = pd.read_csv(\"creditcard.csv\")\n",
    "creditcard.head()"
   ]
  },
  {
   "cell_type": "code",
   "execution_count": 3,
   "metadata": {},
   "outputs": [
    {
     "name": "stdout",
     "output_type": "stream",
     "text": [
      "<class 'pandas.core.frame.DataFrame'>\n",
      "RangeIndex: 555719 entries, 0 to 555718\n",
      "Data columns (total 23 columns):\n",
      " #   Column                 Non-Null Count   Dtype  \n",
      "---  ------                 --------------   -----  \n",
      " 0   Unnamed: 0             555719 non-null  int64  \n",
      " 1   trans_date_trans_time  555719 non-null  object \n",
      " 2   cc_num                 555719 non-null  int64  \n",
      " 3   merchant               555719 non-null  object \n",
      " 4   category               555719 non-null  object \n",
      " 5   amt                    555719 non-null  float64\n",
      " 6   first                  555719 non-null  object \n",
      " 7   last                   555719 non-null  object \n",
      " 8   gender                 555719 non-null  object \n",
      " 9   street                 555719 non-null  object \n",
      " 10  city                   555719 non-null  object \n",
      " 11  state                  555719 non-null  object \n",
      " 12  zip                    555719 non-null  int64  \n",
      " 13  lat                    555719 non-null  float64\n",
      " 14  long                   555719 non-null  float64\n",
      " 15  city_pop               555719 non-null  int64  \n",
      " 16  job                    555719 non-null  object \n",
      " 17  dob                    555719 non-null  object \n",
      " 18  trans_num              555719 non-null  object \n",
      " 19  unix_time              555719 non-null  int64  \n",
      " 20  merch_lat              555719 non-null  float64\n",
      " 21  merch_long             555719 non-null  float64\n",
      " 22  is_fraud               555719 non-null  int64  \n",
      "dtypes: float64(5), int64(6), object(12)\n",
      "memory usage: 97.5+ MB\n"
     ]
    }
   ],
   "source": [
    "creditcard.info()"
   ]
  },
  {
   "cell_type": "code",
   "execution_count": 4,
   "metadata": {},
   "outputs": [
    {
     "data": {
      "text/html": [
       "<div>\n",
       "<style scoped>\n",
       "    .dataframe tbody tr th:only-of-type {\n",
       "        vertical-align: middle;\n",
       "    }\n",
       "\n",
       "    .dataframe tbody tr th {\n",
       "        vertical-align: top;\n",
       "    }\n",
       "\n",
       "    .dataframe thead th {\n",
       "        text-align: right;\n",
       "    }\n",
       "</style>\n",
       "<table border=\"1\" class=\"dataframe\">\n",
       "  <thead>\n",
       "    <tr style=\"text-align: right;\">\n",
       "      <th></th>\n",
       "      <th>Unnamed: 0</th>\n",
       "      <th>cc_num</th>\n",
       "      <th>amt</th>\n",
       "      <th>zip</th>\n",
       "      <th>lat</th>\n",
       "      <th>long</th>\n",
       "      <th>city_pop</th>\n",
       "      <th>unix_time</th>\n",
       "      <th>merch_lat</th>\n",
       "      <th>merch_long</th>\n",
       "      <th>is_fraud</th>\n",
       "    </tr>\n",
       "  </thead>\n",
       "  <tbody>\n",
       "    <tr>\n",
       "      <th>count</th>\n",
       "      <td>555719.000000</td>\n",
       "      <td>5.557190e+05</td>\n",
       "      <td>555719.000000</td>\n",
       "      <td>555719.000000</td>\n",
       "      <td>555719.000000</td>\n",
       "      <td>555719.000000</td>\n",
       "      <td>5.557190e+05</td>\n",
       "      <td>5.557190e+05</td>\n",
       "      <td>555719.000000</td>\n",
       "      <td>555719.000000</td>\n",
       "      <td>555719.000000</td>\n",
       "    </tr>\n",
       "    <tr>\n",
       "      <th>mean</th>\n",
       "      <td>277859.000000</td>\n",
       "      <td>4.178387e+17</td>\n",
       "      <td>69.392810</td>\n",
       "      <td>48842.628015</td>\n",
       "      <td>38.543253</td>\n",
       "      <td>-90.231325</td>\n",
       "      <td>8.822189e+04</td>\n",
       "      <td>1.380679e+09</td>\n",
       "      <td>38.542798</td>\n",
       "      <td>-90.231380</td>\n",
       "      <td>0.003860</td>\n",
       "    </tr>\n",
       "    <tr>\n",
       "      <th>std</th>\n",
       "      <td>160422.401459</td>\n",
       "      <td>1.309837e+18</td>\n",
       "      <td>156.745941</td>\n",
       "      <td>26855.283328</td>\n",
       "      <td>5.061336</td>\n",
       "      <td>13.721780</td>\n",
       "      <td>3.003909e+05</td>\n",
       "      <td>5.201104e+06</td>\n",
       "      <td>5.095829</td>\n",
       "      <td>13.733071</td>\n",
       "      <td>0.062008</td>\n",
       "    </tr>\n",
       "    <tr>\n",
       "      <th>min</th>\n",
       "      <td>0.000000</td>\n",
       "      <td>6.041621e+10</td>\n",
       "      <td>1.000000</td>\n",
       "      <td>1257.000000</td>\n",
       "      <td>20.027100</td>\n",
       "      <td>-165.672300</td>\n",
       "      <td>2.300000e+01</td>\n",
       "      <td>1.371817e+09</td>\n",
       "      <td>19.027422</td>\n",
       "      <td>-166.671575</td>\n",
       "      <td>0.000000</td>\n",
       "    </tr>\n",
       "    <tr>\n",
       "      <th>25%</th>\n",
       "      <td>138929.500000</td>\n",
       "      <td>1.800429e+14</td>\n",
       "      <td>9.630000</td>\n",
       "      <td>26292.000000</td>\n",
       "      <td>34.668900</td>\n",
       "      <td>-96.798000</td>\n",
       "      <td>7.410000e+02</td>\n",
       "      <td>1.376029e+09</td>\n",
       "      <td>34.755302</td>\n",
       "      <td>-96.905129</td>\n",
       "      <td>0.000000</td>\n",
       "    </tr>\n",
       "    <tr>\n",
       "      <th>50%</th>\n",
       "      <td>277859.000000</td>\n",
       "      <td>3.521417e+15</td>\n",
       "      <td>47.290000</td>\n",
       "      <td>48174.000000</td>\n",
       "      <td>39.371600</td>\n",
       "      <td>-87.476900</td>\n",
       "      <td>2.408000e+03</td>\n",
       "      <td>1.380762e+09</td>\n",
       "      <td>39.376593</td>\n",
       "      <td>-87.445204</td>\n",
       "      <td>0.000000</td>\n",
       "    </tr>\n",
       "    <tr>\n",
       "      <th>75%</th>\n",
       "      <td>416788.500000</td>\n",
       "      <td>4.635331e+15</td>\n",
       "      <td>83.010000</td>\n",
       "      <td>72011.000000</td>\n",
       "      <td>41.894800</td>\n",
       "      <td>-80.175200</td>\n",
       "      <td>1.968500e+04</td>\n",
       "      <td>1.385867e+09</td>\n",
       "      <td>41.954163</td>\n",
       "      <td>-80.264637</td>\n",
       "      <td>0.000000</td>\n",
       "    </tr>\n",
       "    <tr>\n",
       "      <th>max</th>\n",
       "      <td>555718.000000</td>\n",
       "      <td>4.992346e+18</td>\n",
       "      <td>22768.110000</td>\n",
       "      <td>99921.000000</td>\n",
       "      <td>65.689900</td>\n",
       "      <td>-67.950300</td>\n",
       "      <td>2.906700e+06</td>\n",
       "      <td>1.388534e+09</td>\n",
       "      <td>66.679297</td>\n",
       "      <td>-66.952026</td>\n",
       "      <td>1.000000</td>\n",
       "    </tr>\n",
       "  </tbody>\n",
       "</table>\n",
       "</div>"
      ],
      "text/plain": [
       "          Unnamed: 0        cc_num            amt            zip  \\\n",
       "count  555719.000000  5.557190e+05  555719.000000  555719.000000   \n",
       "mean   277859.000000  4.178387e+17      69.392810   48842.628015   \n",
       "std    160422.401459  1.309837e+18     156.745941   26855.283328   \n",
       "min         0.000000  6.041621e+10       1.000000    1257.000000   \n",
       "25%    138929.500000  1.800429e+14       9.630000   26292.000000   \n",
       "50%    277859.000000  3.521417e+15      47.290000   48174.000000   \n",
       "75%    416788.500000  4.635331e+15      83.010000   72011.000000   \n",
       "max    555718.000000  4.992346e+18   22768.110000   99921.000000   \n",
       "\n",
       "                 lat           long      city_pop     unix_time  \\\n",
       "count  555719.000000  555719.000000  5.557190e+05  5.557190e+05   \n",
       "mean       38.543253     -90.231325  8.822189e+04  1.380679e+09   \n",
       "std         5.061336      13.721780  3.003909e+05  5.201104e+06   \n",
       "min        20.027100    -165.672300  2.300000e+01  1.371817e+09   \n",
       "25%        34.668900     -96.798000  7.410000e+02  1.376029e+09   \n",
       "50%        39.371600     -87.476900  2.408000e+03  1.380762e+09   \n",
       "75%        41.894800     -80.175200  1.968500e+04  1.385867e+09   \n",
       "max        65.689900     -67.950300  2.906700e+06  1.388534e+09   \n",
       "\n",
       "           merch_lat     merch_long       is_fraud  \n",
       "count  555719.000000  555719.000000  555719.000000  \n",
       "mean       38.542798     -90.231380       0.003860  \n",
       "std         5.095829      13.733071       0.062008  \n",
       "min        19.027422    -166.671575       0.000000  \n",
       "25%        34.755302     -96.905129       0.000000  \n",
       "50%        39.376593     -87.445204       0.000000  \n",
       "75%        41.954163     -80.264637       0.000000  \n",
       "max        66.679297     -66.952026       1.000000  "
      ]
     },
     "execution_count": 4,
     "metadata": {},
     "output_type": "execute_result"
    }
   ],
   "source": [
    "creditcard.describe()"
   ]
  },
  {
   "cell_type": "code",
   "execution_count": 5,
   "metadata": {},
   "outputs": [
    {
     "data": {
      "text/plain": [
       "(555719, 23)"
      ]
     },
     "execution_count": 5,
     "metadata": {},
     "output_type": "execute_result"
    }
   ],
   "source": [
    "creditcard.shape"
   ]
  },
  {
   "cell_type": "code",
   "execution_count": 6,
   "metadata": {},
   "outputs": [
    {
     "data": {
      "text/plain": [
       "Unnamed: 0                 int64\n",
       "trans_date_trans_time     object\n",
       "cc_num                     int64\n",
       "merchant                  object\n",
       "category                  object\n",
       "amt                      float64\n",
       "first                     object\n",
       "last                      object\n",
       "gender                    object\n",
       "street                    object\n",
       "city                      object\n",
       "state                     object\n",
       "zip                        int64\n",
       "lat                      float64\n",
       "long                     float64\n",
       "city_pop                   int64\n",
       "job                       object\n",
       "dob                       object\n",
       "trans_num                 object\n",
       "unix_time                  int64\n",
       "merch_lat                float64\n",
       "merch_long               float64\n",
       "is_fraud                   int64\n",
       "dtype: object"
      ]
     },
     "execution_count": 6,
     "metadata": {},
     "output_type": "execute_result"
    }
   ],
   "source": [
    "creditcard.dtypes"
   ]
  },
  {
   "cell_type": "code",
   "execution_count": 7,
   "metadata": {},
   "outputs": [],
   "source": [
    "#removing unnecessary columns\n",
    "creditcard.drop(columns=['lat','long','merch_lat','merch_long','zip','street','Unnamed: 0'] , inplace=True)\n",
    "#renamning some columns\n",
    "creditcard.rename(columns= {'amt':'amount', 'dob':'D.O.B'}, inplace=True)\n",
    "# combining the first and last column into name column\n",
    "creditcard['Name'] = creditcard[\"first\"] +\" \"+ creditcard[\"last\"]\n",
    "creditcard.drop(columns= ['first', 'last'], inplace=True)\n",
    "# splitting trans_date_trans_time column\n",
    "creditcard[['trans_date','trans_time']] = creditcard.trans_date_trans_time.str.split(expand=True)\n",
    "creditcard.drop('trans_date_trans_time', axis=1, inplace=True)\n",
    "# Rearrange columns \n",
    "creditcard = creditcard[['Name','gender','D.O.B','job', 'city', 'city_pop',\n",
    "                           'state','merchant','category', 'amount','trans_date',\n",
    "                           'trans_time','cc_num','trans_num', 'unix_time','is_fraud']]"
   ]
  },
  {
   "cell_type": "code",
   "execution_count": 8,
   "metadata": {},
   "outputs": [
    {
     "data": {
      "text/html": [
       "<div>\n",
       "<style scoped>\n",
       "    .dataframe tbody tr th:only-of-type {\n",
       "        vertical-align: middle;\n",
       "    }\n",
       "\n",
       "    .dataframe tbody tr th {\n",
       "        vertical-align: top;\n",
       "    }\n",
       "\n",
       "    .dataframe thead th {\n",
       "        text-align: right;\n",
       "    }\n",
       "</style>\n",
       "<table border=\"1\" class=\"dataframe\">\n",
       "  <thead>\n",
       "    <tr style=\"text-align: right;\">\n",
       "      <th></th>\n",
       "      <th>Name</th>\n",
       "      <th>gender</th>\n",
       "      <th>D.O.B</th>\n",
       "      <th>job</th>\n",
       "      <th>city</th>\n",
       "      <th>city_pop</th>\n",
       "      <th>state</th>\n",
       "      <th>merchant</th>\n",
       "      <th>category</th>\n",
       "      <th>amount</th>\n",
       "      <th>trans_date</th>\n",
       "      <th>trans_time</th>\n",
       "      <th>cc_num</th>\n",
       "      <th>trans_num</th>\n",
       "      <th>unix_time</th>\n",
       "      <th>is_fraud</th>\n",
       "    </tr>\n",
       "  </thead>\n",
       "  <tbody>\n",
       "    <tr>\n",
       "      <th>0</th>\n",
       "      <td>Jeff Elliott</td>\n",
       "      <td>M</td>\n",
       "      <td>1968-03-19</td>\n",
       "      <td>Mechanical engineer</td>\n",
       "      <td>Columbia</td>\n",
       "      <td>333497</td>\n",
       "      <td>SC</td>\n",
       "      <td>fraud_Kirlin and Sons</td>\n",
       "      <td>personal_care</td>\n",
       "      <td>2.86</td>\n",
       "      <td>2020-06-21</td>\n",
       "      <td>12:14:25</td>\n",
       "      <td>2291163933867244</td>\n",
       "      <td>2da90c7d74bd46a0caf3777415b3ebd3</td>\n",
       "      <td>1371816865</td>\n",
       "      <td>0</td>\n",
       "    </tr>\n",
       "    <tr>\n",
       "      <th>1</th>\n",
       "      <td>Joanne Williams</td>\n",
       "      <td>F</td>\n",
       "      <td>1990-01-17</td>\n",
       "      <td>Sales professional, IT</td>\n",
       "      <td>Altonah</td>\n",
       "      <td>302</td>\n",
       "      <td>UT</td>\n",
       "      <td>fraud_Sporer-Keebler</td>\n",
       "      <td>personal_care</td>\n",
       "      <td>29.84</td>\n",
       "      <td>2020-06-21</td>\n",
       "      <td>12:14:33</td>\n",
       "      <td>3573030041201292</td>\n",
       "      <td>324cc204407e99f51b0d6ca0055005e7</td>\n",
       "      <td>1371816873</td>\n",
       "      <td>0</td>\n",
       "    </tr>\n",
       "    <tr>\n",
       "      <th>2</th>\n",
       "      <td>Ashley Lopez</td>\n",
       "      <td>F</td>\n",
       "      <td>1970-10-21</td>\n",
       "      <td>Librarian, public</td>\n",
       "      <td>Bellmore</td>\n",
       "      <td>34496</td>\n",
       "      <td>NY</td>\n",
       "      <td>fraud_Swaniawski, Nitzsche and Welch</td>\n",
       "      <td>health_fitness</td>\n",
       "      <td>41.28</td>\n",
       "      <td>2020-06-21</td>\n",
       "      <td>12:14:53</td>\n",
       "      <td>3598215285024754</td>\n",
       "      <td>c81755dbbbea9d5c77f094348a7579be</td>\n",
       "      <td>1371816893</td>\n",
       "      <td>0</td>\n",
       "    </tr>\n",
       "    <tr>\n",
       "      <th>3</th>\n",
       "      <td>Brian Williams</td>\n",
       "      <td>M</td>\n",
       "      <td>1987-07-25</td>\n",
       "      <td>Set designer</td>\n",
       "      <td>Titusville</td>\n",
       "      <td>54767</td>\n",
       "      <td>FL</td>\n",
       "      <td>fraud_Haley Group</td>\n",
       "      <td>misc_pos</td>\n",
       "      <td>60.05</td>\n",
       "      <td>2020-06-21</td>\n",
       "      <td>12:15:15</td>\n",
       "      <td>3591919803438423</td>\n",
       "      <td>2159175b9efe66dc301f149d3d5abf8c</td>\n",
       "      <td>1371816915</td>\n",
       "      <td>0</td>\n",
       "    </tr>\n",
       "    <tr>\n",
       "      <th>4</th>\n",
       "      <td>Nathan Massey</td>\n",
       "      <td>M</td>\n",
       "      <td>1955-07-06</td>\n",
       "      <td>Furniture designer</td>\n",
       "      <td>Falmouth</td>\n",
       "      <td>1126</td>\n",
       "      <td>MI</td>\n",
       "      <td>fraud_Johnston-Casper</td>\n",
       "      <td>travel</td>\n",
       "      <td>3.19</td>\n",
       "      <td>2020-06-21</td>\n",
       "      <td>12:15:17</td>\n",
       "      <td>3526826139003047</td>\n",
       "      <td>57ff021bd3f328f8738bb535c302a31b</td>\n",
       "      <td>1371816917</td>\n",
       "      <td>0</td>\n",
       "    </tr>\n",
       "  </tbody>\n",
       "</table>\n",
       "</div>"
      ],
      "text/plain": [
       "              Name gender       D.O.B                     job        city  \\\n",
       "0     Jeff Elliott      M  1968-03-19     Mechanical engineer    Columbia   \n",
       "1  Joanne Williams      F  1990-01-17  Sales professional, IT     Altonah   \n",
       "2     Ashley Lopez      F  1970-10-21       Librarian, public    Bellmore   \n",
       "3   Brian Williams      M  1987-07-25            Set designer  Titusville   \n",
       "4    Nathan Massey      M  1955-07-06      Furniture designer    Falmouth   \n",
       "\n",
       "   city_pop state                              merchant        category  \\\n",
       "0    333497    SC                 fraud_Kirlin and Sons   personal_care   \n",
       "1       302    UT                  fraud_Sporer-Keebler   personal_care   \n",
       "2     34496    NY  fraud_Swaniawski, Nitzsche and Welch  health_fitness   \n",
       "3     54767    FL                     fraud_Haley Group        misc_pos   \n",
       "4      1126    MI                 fraud_Johnston-Casper          travel   \n",
       "\n",
       "   amount  trans_date trans_time            cc_num  \\\n",
       "0    2.86  2020-06-21   12:14:25  2291163933867244   \n",
       "1   29.84  2020-06-21   12:14:33  3573030041201292   \n",
       "2   41.28  2020-06-21   12:14:53  3598215285024754   \n",
       "3   60.05  2020-06-21   12:15:15  3591919803438423   \n",
       "4    3.19  2020-06-21   12:15:17  3526826139003047   \n",
       "\n",
       "                          trans_num   unix_time  is_fraud  \n",
       "0  2da90c7d74bd46a0caf3777415b3ebd3  1371816865         0  \n",
       "1  324cc204407e99f51b0d6ca0055005e7  1371816873         0  \n",
       "2  c81755dbbbea9d5c77f094348a7579be  1371816893         0  \n",
       "3  2159175b9efe66dc301f149d3d5abf8c  1371816915         0  \n",
       "4  57ff021bd3f328f8738bb535c302a31b  1371816917         0  "
      ]
     },
     "execution_count": 8,
     "metadata": {},
     "output_type": "execute_result"
    }
   ],
   "source": [
    "creditcard.head()"
   ]
  },
  {
   "cell_type": "code",
   "execution_count": 9,
   "metadata": {},
   "outputs": [
    {
     "data": {
      "text/plain": [
       "Name          False\n",
       "gender        False\n",
       "D.O.B         False\n",
       "job           False\n",
       "city          False\n",
       "city_pop      False\n",
       "state         False\n",
       "merchant      False\n",
       "category      False\n",
       "amount        False\n",
       "trans_date    False\n",
       "trans_time    False\n",
       "cc_num        False\n",
       "trans_num     False\n",
       "unix_time     False\n",
       "is_fraud      False\n",
       "dtype: bool"
      ]
     },
     "execution_count": 9,
     "metadata": {},
     "output_type": "execute_result"
    }
   ],
   "source": [
    "creditcard.isnull().any()"
   ]
  },
  {
   "cell_type": "code",
   "execution_count": 10,
   "metadata": {},
   "outputs": [
    {
     "data": {
      "text/html": [
       "<div>\n",
       "<style scoped>\n",
       "    .dataframe tbody tr th:only-of-type {\n",
       "        vertical-align: middle;\n",
       "    }\n",
       "\n",
       "    .dataframe tbody tr th {\n",
       "        vertical-align: top;\n",
       "    }\n",
       "\n",
       "    .dataframe thead th {\n",
       "        text-align: right;\n",
       "    }\n",
       "</style>\n",
       "<table border=\"1\" class=\"dataframe\">\n",
       "  <thead>\n",
       "    <tr style=\"text-align: right;\">\n",
       "      <th></th>\n",
       "      <th>Name</th>\n",
       "      <th>gender</th>\n",
       "      <th>D.O.B</th>\n",
       "      <th>job</th>\n",
       "      <th>city</th>\n",
       "      <th>city_pop</th>\n",
       "      <th>state</th>\n",
       "      <th>merchant</th>\n",
       "      <th>category</th>\n",
       "      <th>amount</th>\n",
       "      <th>trans_date</th>\n",
       "      <th>trans_time</th>\n",
       "      <th>cc_num</th>\n",
       "      <th>trans_num</th>\n",
       "      <th>unix_time</th>\n",
       "      <th>is_fraud</th>\n",
       "    </tr>\n",
       "  </thead>\n",
       "  <tbody>\n",
       "    <tr>\n",
       "      <th>0</th>\n",
       "      <td>Jeff Elliott</td>\n",
       "      <td>M</td>\n",
       "      <td>1968-03-19</td>\n",
       "      <td>Mechanical engineer</td>\n",
       "      <td>Columbia</td>\n",
       "      <td>333497</td>\n",
       "      <td>SC</td>\n",
       "      <td>fraud_Kirlin and Sons</td>\n",
       "      <td>personal_care</td>\n",
       "      <td>2.86</td>\n",
       "      <td>2020-06-21</td>\n",
       "      <td>12:14:25</td>\n",
       "      <td>2291163933867244</td>\n",
       "      <td>2da90c7d74bd46a0caf3777415b3ebd3</td>\n",
       "      <td>1371816865</td>\n",
       "      <td>0</td>\n",
       "    </tr>\n",
       "    <tr>\n",
       "      <th>1</th>\n",
       "      <td>Joanne Williams</td>\n",
       "      <td>F</td>\n",
       "      <td>1990-01-17</td>\n",
       "      <td>Sales professional, IT</td>\n",
       "      <td>Altonah</td>\n",
       "      <td>302</td>\n",
       "      <td>UT</td>\n",
       "      <td>fraud_Sporer-Keebler</td>\n",
       "      <td>personal_care</td>\n",
       "      <td>29.84</td>\n",
       "      <td>2020-06-21</td>\n",
       "      <td>12:14:33</td>\n",
       "      <td>3573030041201292</td>\n",
       "      <td>324cc204407e99f51b0d6ca0055005e7</td>\n",
       "      <td>1371816873</td>\n",
       "      <td>0</td>\n",
       "    </tr>\n",
       "    <tr>\n",
       "      <th>2</th>\n",
       "      <td>Ashley Lopez</td>\n",
       "      <td>F</td>\n",
       "      <td>1970-10-21</td>\n",
       "      <td>Librarian, public</td>\n",
       "      <td>Bellmore</td>\n",
       "      <td>34496</td>\n",
       "      <td>NY</td>\n",
       "      <td>fraud_Swaniawski, Nitzsche and Welch</td>\n",
       "      <td>health_fitness</td>\n",
       "      <td>41.28</td>\n",
       "      <td>2020-06-21</td>\n",
       "      <td>12:14:53</td>\n",
       "      <td>3598215285024754</td>\n",
       "      <td>c81755dbbbea9d5c77f094348a7579be</td>\n",
       "      <td>1371816893</td>\n",
       "      <td>0</td>\n",
       "    </tr>\n",
       "    <tr>\n",
       "      <th>3</th>\n",
       "      <td>Brian Williams</td>\n",
       "      <td>M</td>\n",
       "      <td>1987-07-25</td>\n",
       "      <td>Set designer</td>\n",
       "      <td>Titusville</td>\n",
       "      <td>54767</td>\n",
       "      <td>FL</td>\n",
       "      <td>fraud_Haley Group</td>\n",
       "      <td>misc_pos</td>\n",
       "      <td>60.05</td>\n",
       "      <td>2020-06-21</td>\n",
       "      <td>12:15:15</td>\n",
       "      <td>3591919803438423</td>\n",
       "      <td>2159175b9efe66dc301f149d3d5abf8c</td>\n",
       "      <td>1371816915</td>\n",
       "      <td>0</td>\n",
       "    </tr>\n",
       "    <tr>\n",
       "      <th>4</th>\n",
       "      <td>Nathan Massey</td>\n",
       "      <td>M</td>\n",
       "      <td>1955-07-06</td>\n",
       "      <td>Furniture designer</td>\n",
       "      <td>Falmouth</td>\n",
       "      <td>1126</td>\n",
       "      <td>MI</td>\n",
       "      <td>fraud_Johnston-Casper</td>\n",
       "      <td>travel</td>\n",
       "      <td>3.19</td>\n",
       "      <td>2020-06-21</td>\n",
       "      <td>12:15:17</td>\n",
       "      <td>3526826139003047</td>\n",
       "      <td>57ff021bd3f328f8738bb535c302a31b</td>\n",
       "      <td>1371816917</td>\n",
       "      <td>0</td>\n",
       "    </tr>\n",
       "    <tr>\n",
       "      <th>...</th>\n",
       "      <td>...</td>\n",
       "      <td>...</td>\n",
       "      <td>...</td>\n",
       "      <td>...</td>\n",
       "      <td>...</td>\n",
       "      <td>...</td>\n",
       "      <td>...</td>\n",
       "      <td>...</td>\n",
       "      <td>...</td>\n",
       "      <td>...</td>\n",
       "      <td>...</td>\n",
       "      <td>...</td>\n",
       "      <td>...</td>\n",
       "      <td>...</td>\n",
       "      <td>...</td>\n",
       "      <td>...</td>\n",
       "    </tr>\n",
       "    <tr>\n",
       "      <th>555714</th>\n",
       "      <td>Michael Olson</td>\n",
       "      <td>M</td>\n",
       "      <td>1966-02-13</td>\n",
       "      <td>Town planner</td>\n",
       "      <td>Luray</td>\n",
       "      <td>519</td>\n",
       "      <td>MO</td>\n",
       "      <td>fraud_Reilly and Sons</td>\n",
       "      <td>health_fitness</td>\n",
       "      <td>43.77</td>\n",
       "      <td>2020-12-31</td>\n",
       "      <td>23:59:07</td>\n",
       "      <td>30560609640617</td>\n",
       "      <td>9b1f753c79894c9f4b71f04581835ada</td>\n",
       "      <td>1388534347</td>\n",
       "      <td>0</td>\n",
       "    </tr>\n",
       "    <tr>\n",
       "      <th>555715</th>\n",
       "      <td>Jose Vasquez</td>\n",
       "      <td>M</td>\n",
       "      <td>1999-12-27</td>\n",
       "      <td>Futures trader</td>\n",
       "      <td>Lake Jackson</td>\n",
       "      <td>28739</td>\n",
       "      <td>TX</td>\n",
       "      <td>fraud_Hoppe-Parisian</td>\n",
       "      <td>kids_pets</td>\n",
       "      <td>111.84</td>\n",
       "      <td>2020-12-31</td>\n",
       "      <td>23:59:09</td>\n",
       "      <td>3556613125071656</td>\n",
       "      <td>2090647dac2c89a1d86c514c427f5b91</td>\n",
       "      <td>1388534349</td>\n",
       "      <td>0</td>\n",
       "    </tr>\n",
       "    <tr>\n",
       "      <th>555716</th>\n",
       "      <td>Ann Lawson</td>\n",
       "      <td>F</td>\n",
       "      <td>1981-11-29</td>\n",
       "      <td>Musician</td>\n",
       "      <td>Burbank</td>\n",
       "      <td>3684</td>\n",
       "      <td>WA</td>\n",
       "      <td>fraud_Rau-Robel</td>\n",
       "      <td>kids_pets</td>\n",
       "      <td>86.88</td>\n",
       "      <td>2020-12-31</td>\n",
       "      <td>23:59:15</td>\n",
       "      <td>6011724471098086</td>\n",
       "      <td>6c5b7c8add471975aa0fec023b2e8408</td>\n",
       "      <td>1388534355</td>\n",
       "      <td>0</td>\n",
       "    </tr>\n",
       "    <tr>\n",
       "      <th>555717</th>\n",
       "      <td>Eric Preston</td>\n",
       "      <td>M</td>\n",
       "      <td>1965-12-15</td>\n",
       "      <td>Cartographer</td>\n",
       "      <td>Mesa</td>\n",
       "      <td>129</td>\n",
       "      <td>ID</td>\n",
       "      <td>fraud_Breitenberg LLC</td>\n",
       "      <td>travel</td>\n",
       "      <td>7.99</td>\n",
       "      <td>2020-12-31</td>\n",
       "      <td>23:59:24</td>\n",
       "      <td>4079773899158</td>\n",
       "      <td>14392d723bb7737606b2700ac791b7aa</td>\n",
       "      <td>1388534364</td>\n",
       "      <td>0</td>\n",
       "    </tr>\n",
       "    <tr>\n",
       "      <th>555718</th>\n",
       "      <td>Samuel Frey</td>\n",
       "      <td>M</td>\n",
       "      <td>1993-05-10</td>\n",
       "      <td>Media buyer</td>\n",
       "      <td>Edmond</td>\n",
       "      <td>116001</td>\n",
       "      <td>OK</td>\n",
       "      <td>fraud_Dare-Marvin</td>\n",
       "      <td>entertainment</td>\n",
       "      <td>38.13</td>\n",
       "      <td>2020-12-31</td>\n",
       "      <td>23:59:34</td>\n",
       "      <td>4170689372027579</td>\n",
       "      <td>1765bb45b3aa3224b4cdcb6e7a96cee3</td>\n",
       "      <td>1388534374</td>\n",
       "      <td>0</td>\n",
       "    </tr>\n",
       "  </tbody>\n",
       "</table>\n",
       "<p>555719 rows × 16 columns</p>\n",
       "</div>"
      ],
      "text/plain": [
       "                   Name gender       D.O.B                     job  \\\n",
       "0          Jeff Elliott      M  1968-03-19     Mechanical engineer   \n",
       "1       Joanne Williams      F  1990-01-17  Sales professional, IT   \n",
       "2          Ashley Lopez      F  1970-10-21       Librarian, public   \n",
       "3        Brian Williams      M  1987-07-25            Set designer   \n",
       "4         Nathan Massey      M  1955-07-06      Furniture designer   \n",
       "...                 ...    ...         ...                     ...   \n",
       "555714    Michael Olson      M  1966-02-13            Town planner   \n",
       "555715     Jose Vasquez      M  1999-12-27          Futures trader   \n",
       "555716       Ann Lawson      F  1981-11-29                Musician   \n",
       "555717     Eric Preston      M  1965-12-15            Cartographer   \n",
       "555718      Samuel Frey      M  1993-05-10             Media buyer   \n",
       "\n",
       "                city  city_pop state                              merchant  \\\n",
       "0           Columbia    333497    SC                 fraud_Kirlin and Sons   \n",
       "1            Altonah       302    UT                  fraud_Sporer-Keebler   \n",
       "2           Bellmore     34496    NY  fraud_Swaniawski, Nitzsche and Welch   \n",
       "3         Titusville     54767    FL                     fraud_Haley Group   \n",
       "4           Falmouth      1126    MI                 fraud_Johnston-Casper   \n",
       "...              ...       ...   ...                                   ...   \n",
       "555714         Luray       519    MO                 fraud_Reilly and Sons   \n",
       "555715  Lake Jackson     28739    TX                  fraud_Hoppe-Parisian   \n",
       "555716       Burbank      3684    WA                       fraud_Rau-Robel   \n",
       "555717          Mesa       129    ID                 fraud_Breitenberg LLC   \n",
       "555718        Edmond    116001    OK                     fraud_Dare-Marvin   \n",
       "\n",
       "              category  amount  trans_date trans_time            cc_num  \\\n",
       "0        personal_care    2.86  2020-06-21   12:14:25  2291163933867244   \n",
       "1        personal_care   29.84  2020-06-21   12:14:33  3573030041201292   \n",
       "2       health_fitness   41.28  2020-06-21   12:14:53  3598215285024754   \n",
       "3             misc_pos   60.05  2020-06-21   12:15:15  3591919803438423   \n",
       "4               travel    3.19  2020-06-21   12:15:17  3526826139003047   \n",
       "...                ...     ...         ...        ...               ...   \n",
       "555714  health_fitness   43.77  2020-12-31   23:59:07    30560609640617   \n",
       "555715       kids_pets  111.84  2020-12-31   23:59:09  3556613125071656   \n",
       "555716       kids_pets   86.88  2020-12-31   23:59:15  6011724471098086   \n",
       "555717          travel    7.99  2020-12-31   23:59:24     4079773899158   \n",
       "555718   entertainment   38.13  2020-12-31   23:59:34  4170689372027579   \n",
       "\n",
       "                               trans_num   unix_time  is_fraud  \n",
       "0       2da90c7d74bd46a0caf3777415b3ebd3  1371816865         0  \n",
       "1       324cc204407e99f51b0d6ca0055005e7  1371816873         0  \n",
       "2       c81755dbbbea9d5c77f094348a7579be  1371816893         0  \n",
       "3       2159175b9efe66dc301f149d3d5abf8c  1371816915         0  \n",
       "4       57ff021bd3f328f8738bb535c302a31b  1371816917         0  \n",
       "...                                  ...         ...       ...  \n",
       "555714  9b1f753c79894c9f4b71f04581835ada  1388534347         0  \n",
       "555715  2090647dac2c89a1d86c514c427f5b91  1388534349         0  \n",
       "555716  6c5b7c8add471975aa0fec023b2e8408  1388534355         0  \n",
       "555717  14392d723bb7737606b2700ac791b7aa  1388534364         0  \n",
       "555718  1765bb45b3aa3224b4cdcb6e7a96cee3  1388534374         0  \n",
       "\n",
       "[555719 rows x 16 columns]"
      ]
     },
     "execution_count": 10,
     "metadata": {},
     "output_type": "execute_result"
    }
   ],
   "source": [
    "creditcard.drop_duplicates(subset= creditcard.columns)"
   ]
  },
  {
   "cell_type": "code",
   "execution_count": 11,
   "metadata": {},
   "outputs": [
    {
     "data": {
      "text/plain": [
       "Destiny Fowler          6\n",
       "Joseph Bartlett         7\n",
       "Stephanie Freeman       8\n",
       "Rachel Williams         9\n",
       "Nicole Dominguez        9\n",
       "                     ... \n",
       "Carrie Washington    1462\n",
       "Michelle Gregory     1466\n",
       "Gina Grimes          1474\n",
       "Jeffrey Smith        1526\n",
       "Scott Martin         1965\n",
       "Name: Name, Length: 917, dtype: int64"
      ]
     },
     "execution_count": 11,
     "metadata": {},
     "output_type": "execute_result"
    }
   ],
   "source": [
    "# Checking the number of transactions done by each customer\n",
    "creditcard['Name'].value_counts(ascending=True)"
   ]
  },
  {
   "cell_type": "code",
   "execution_count": 12,
   "metadata": {},
   "outputs": [
    {
     "data": {
      "text/plain": [
       "fraud_Ritchie, Bradtke and Stiedemann     304\n",
       "fraud_Jerde-Hermann                       312\n",
       "fraud_Kessler Group                       318\n",
       "fraud_Satterfield-Lowe                    319\n",
       "fraud_Treutel-King                        323\n",
       "                                         ... \n",
       "fraud_Dickinson Ltd                      1519\n",
       "fraud_Kuhn LLC                           1521\n",
       "fraud_Schumm PLC                         1561\n",
       "fraud_Cormier LLC                        1597\n",
       "fraud_Kilback LLC                        1859\n",
       "Name: merchant, Length: 693, dtype: int64"
      ]
     },
     "execution_count": 12,
     "metadata": {},
     "output_type": "execute_result"
    }
   ],
   "source": [
    "#Number of Merchants\n",
    "creditcard['merchant'].value_counts(ascending=True)"
   ]
  },
  {
   "cell_type": "code",
   "execution_count": 13,
   "metadata": {},
   "outputs": [
    {
     "data": {
      "text/plain": [
       "0    553574\n",
       "1      2145\n",
       "Name: is_fraud, dtype: int64"
      ]
     },
     "execution_count": 13,
     "metadata": {},
     "output_type": "execute_result"
    }
   ],
   "source": [
    "# Checking the number of transactions that are fraud and normal\n",
    "creditcard['is_fraud'].value_counts()"
   ]
  },
  {
   "cell_type": "code",
   "execution_count": 14,
   "metadata": {},
   "outputs": [],
   "source": [
    "import seaborn as sns"
   ]
  },
  {
   "cell_type": "code",
   "execution_count": 15,
   "metadata": {},
   "outputs": [
    {
     "data": {
      "image/png": "[encoded data removed]",
      "text/plain": [
       "<Figure size 432x288 with 1 Axes>"
      ]
     },
     "metadata": {
      "needs_background": "light"
     },
     "output_type": "display_data"
    }
   ],
   "source": [
    "sns.countplot('is_fraud', data=creditcard)\n",
    "plt.title('Fraud')\n",
    "plt.show()"
   ]
  },
  {
   "cell_type": "code",
   "execution_count": 16,
   "metadata": {},
   "outputs": [
    {
     "data": {
      "image/png": "[encoded data removed]",
      "text/plain": [
       "<Figure size 432x288 with 1 Axes>"
      ]
     },
     "metadata": {
      "needs_background": "light"
     },
     "output_type": "display_data"
    }
   ],
   "source": [
    "sns.countplot('is_fraud',hue='gender' ,data=creditcard)\n",
    "plt.title('Fraud')\n",
    "plt.show()"
   ]
  },
  {
   "cell_type": "markdown",
   "metadata": {},
   "source": [
    "### Data Preprocessing and Feature Engineering"
   ]
  },
  {
   "cell_type": "code",
   "execution_count": 17,
   "metadata": {},
   "outputs": [
    {
     "data": {
      "text/plain": [
       "Name           object\n",
       "gender         object\n",
       "D.O.B          object\n",
       "job            object\n",
       "city           object\n",
       "city_pop        int64\n",
       "state          object\n",
       "merchant       object\n",
       "category       object\n",
       "amount        float64\n",
       "trans_date     object\n",
       "trans_time     object\n",
       "cc_num          int64\n",
       "trans_num      object\n",
       "unix_time       int64\n",
       "is_fraud        int64\n",
       "dtype: object"
      ]
     },
     "execution_count": 17,
     "metadata": {},
     "output_type": "execute_result"
    }
   ],
   "source": [
    "creditcard.dtypes"
   ]
  },
  {
   "cell_type": "code",
   "execution_count": 18,
   "metadata": {},
   "outputs": [
    {
     "data": {
      "text/html": [
       "<div>\n",
       "<style scoped>\n",
       "    .dataframe tbody tr th:only-of-type {\n",
       "        vertical-align: middle;\n",
       "    }\n",
       "\n",
       "    .dataframe tbody tr th {\n",
       "        vertical-align: top;\n",
       "    }\n",
       "\n",
       "    .dataframe thead th {\n",
       "        text-align: right;\n",
       "    }\n",
       "</style>\n",
       "<table border=\"1\" class=\"dataframe\">\n",
       "  <thead>\n",
       "    <tr style=\"text-align: right;\">\n",
       "      <th></th>\n",
       "      <th>Name</th>\n",
       "      <th>gender</th>\n",
       "      <th>D.O.B</th>\n",
       "      <th>job</th>\n",
       "      <th>city</th>\n",
       "      <th>state</th>\n",
       "      <th>merchant</th>\n",
       "      <th>category</th>\n",
       "      <th>trans_date</th>\n",
       "      <th>trans_time</th>\n",
       "      <th>trans_num</th>\n",
       "    </tr>\n",
       "  </thead>\n",
       "  <tbody>\n",
       "    <tr>\n",
       "      <th>0</th>\n",
       "      <td>Jeff Elliott</td>\n",
       "      <td>M</td>\n",
       "      <td>1968-03-19</td>\n",
       "      <td>Mechanical engineer</td>\n",
       "      <td>Columbia</td>\n",
       "      <td>SC</td>\n",
       "      <td>fraud_Kirlin and Sons</td>\n",
       "      <td>personal_care</td>\n",
       "      <td>2020-06-21</td>\n",
       "      <td>12:14:25</td>\n",
       "      <td>2da90c7d74bd46a0caf3777415b3ebd3</td>\n",
       "    </tr>\n",
       "    <tr>\n",
       "      <th>1</th>\n",
       "      <td>Joanne Williams</td>\n",
       "      <td>F</td>\n",
       "      <td>1990-01-17</td>\n",
       "      <td>Sales professional, IT</td>\n",
       "      <td>Altonah</td>\n",
       "      <td>UT</td>\n",
       "      <td>fraud_Sporer-Keebler</td>\n",
       "      <td>personal_care</td>\n",
       "      <td>2020-06-21</td>\n",
       "      <td>12:14:33</td>\n",
       "      <td>324cc204407e99f51b0d6ca0055005e7</td>\n",
       "    </tr>\n",
       "    <tr>\n",
       "      <th>2</th>\n",
       "      <td>Ashley Lopez</td>\n",
       "      <td>F</td>\n",
       "      <td>1970-10-21</td>\n",
       "      <td>Librarian, public</td>\n",
       "      <td>Bellmore</td>\n",
       "      <td>NY</td>\n",
       "      <td>fraud_Swaniawski, Nitzsche and Welch</td>\n",
       "      <td>health_fitness</td>\n",
       "      <td>2020-06-21</td>\n",
       "      <td>12:14:53</td>\n",
       "      <td>c81755dbbbea9d5c77f094348a7579be</td>\n",
       "    </tr>\n",
       "    <tr>\n",
       "      <th>3</th>\n",
       "      <td>Brian Williams</td>\n",
       "      <td>M</td>\n",
       "      <td>1987-07-25</td>\n",
       "      <td>Set designer</td>\n",
       "      <td>Titusville</td>\n",
       "      <td>FL</td>\n",
       "      <td>fraud_Haley Group</td>\n",
       "      <td>misc_pos</td>\n",
       "      <td>2020-06-21</td>\n",
       "      <td>12:15:15</td>\n",
       "      <td>2159175b9efe66dc301f149d3d5abf8c</td>\n",
       "    </tr>\n",
       "    <tr>\n",
       "      <th>4</th>\n",
       "      <td>Nathan Massey</td>\n",
       "      <td>M</td>\n",
       "      <td>1955-07-06</td>\n",
       "      <td>Furniture designer</td>\n",
       "      <td>Falmouth</td>\n",
       "      <td>MI</td>\n",
       "      <td>fraud_Johnston-Casper</td>\n",
       "      <td>travel</td>\n",
       "      <td>2020-06-21</td>\n",
       "      <td>12:15:17</td>\n",
       "      <td>57ff021bd3f328f8738bb535c302a31b</td>\n",
       "    </tr>\n",
       "  </tbody>\n",
       "</table>\n",
       "</div>"
      ],
      "text/plain": [
       "              Name gender       D.O.B                     job        city  \\\n",
       "0     Jeff Elliott      M  1968-03-19     Mechanical engineer    Columbia   \n",
       "1  Joanne Williams      F  1990-01-17  Sales professional, IT     Altonah   \n",
       "2     Ashley Lopez      F  1970-10-21       Librarian, public    Bellmore   \n",
       "3   Brian Williams      M  1987-07-25            Set designer  Titusville   \n",
       "4    Nathan Massey      M  1955-07-06      Furniture designer    Falmouth   \n",
       "\n",
       "  state                              merchant        category  trans_date  \\\n",
       "0    SC                 fraud_Kirlin and Sons   personal_care  2020-06-21   \n",
       "1    UT                  fraud_Sporer-Keebler   personal_care  2020-06-21   \n",
       "2    NY  fraud_Swaniawski, Nitzsche and Welch  health_fitness  2020-06-21   \n",
       "3    FL                     fraud_Haley Group        misc_pos  2020-06-21   \n",
       "4    MI                 fraud_Johnston-Casper          travel  2020-06-21   \n",
       "\n",
       "  trans_time                         trans_num  \n",
       "0   12:14:25  2da90c7d74bd46a0caf3777415b3ebd3  \n",
       "1   12:14:33  324cc204407e99f51b0d6ca0055005e7  \n",
       "2   12:14:53  c81755dbbbea9d5c77f094348a7579be  \n",
       "3   12:15:15  2159175b9efe66dc301f149d3d5abf8c  \n",
       "4   12:15:17  57ff021bd3f328f8738bb535c302a31b  "
      ]
     },
     "execution_count": 18,
     "metadata": {},
     "output_type": "execute_result"
    }
   ],
   "source": [
    "# converting categorical to numerical\n",
    "obj_creditcard = creditcard.select_dtypes(include=['object']).copy()\n",
    "obj_creditcard.head()"
   ]
  },
  {
   "cell_type": "code",
   "execution_count": 19,
   "metadata": {},
   "outputs": [
    {
     "data": {
      "text/html": [
       "<div>\n",
       "<style scoped>\n",
       "    .dataframe tbody tr th:only-of-type {\n",
       "        vertical-align: middle;\n",
       "    }\n",
       "\n",
       "    .dataframe tbody tr th {\n",
       "        vertical-align: top;\n",
       "    }\n",
       "\n",
       "    .dataframe thead th {\n",
       "        text-align: right;\n",
       "    }\n",
       "</style>\n",
       "<table border=\"1\" class=\"dataframe\">\n",
       "  <thead>\n",
       "    <tr style=\"text-align: right;\">\n",
       "      <th></th>\n",
       "      <th>Name</th>\n",
       "      <th>gender</th>\n",
       "      <th>D.O.B</th>\n",
       "      <th>job</th>\n",
       "      <th>city</th>\n",
       "      <th>city_pop</th>\n",
       "      <th>state</th>\n",
       "      <th>merchant</th>\n",
       "      <th>category</th>\n",
       "      <th>amount</th>\n",
       "      <th>trans_date</th>\n",
       "      <th>trans_time</th>\n",
       "      <th>cc_num</th>\n",
       "      <th>trans_num</th>\n",
       "      <th>unix_time</th>\n",
       "      <th>is_fraud</th>\n",
       "      <th>time</th>\n",
       "    </tr>\n",
       "  </thead>\n",
       "  <tbody>\n",
       "    <tr>\n",
       "      <th>0</th>\n",
       "      <td>Jeff Elliott</td>\n",
       "      <td>M</td>\n",
       "      <td>1968-03-19</td>\n",
       "      <td>Mechanical engineer</td>\n",
       "      <td>Columbia</td>\n",
       "      <td>333497</td>\n",
       "      <td>SC</td>\n",
       "      <td>fraud_Kirlin and Sons</td>\n",
       "      <td>personal_care</td>\n",
       "      <td>2.86</td>\n",
       "      <td>2020-06-21</td>\n",
       "      <td>12:14:25</td>\n",
       "      <td>2291163933867244</td>\n",
       "      <td>2da90c7d74bd46a0caf3777415b3ebd3</td>\n",
       "      <td>1371816865</td>\n",
       "      <td>0</td>\n",
       "      <td>NaN</td>\n",
       "    </tr>\n",
       "    <tr>\n",
       "      <th>1</th>\n",
       "      <td>Joanne Williams</td>\n",
       "      <td>F</td>\n",
       "      <td>1990-01-17</td>\n",
       "      <td>Sales professional, IT</td>\n",
       "      <td>Altonah</td>\n",
       "      <td>302</td>\n",
       "      <td>UT</td>\n",
       "      <td>fraud_Sporer-Keebler</td>\n",
       "      <td>personal_care</td>\n",
       "      <td>29.84</td>\n",
       "      <td>2020-06-21</td>\n",
       "      <td>12:14:33</td>\n",
       "      <td>3573030041201292</td>\n",
       "      <td>324cc204407e99f51b0d6ca0055005e7</td>\n",
       "      <td>1371816873</td>\n",
       "      <td>0</td>\n",
       "      <td>8.0</td>\n",
       "    </tr>\n",
       "    <tr>\n",
       "      <th>2</th>\n",
       "      <td>Ashley Lopez</td>\n",
       "      <td>F</td>\n",
       "      <td>1970-10-21</td>\n",
       "      <td>Librarian, public</td>\n",
       "      <td>Bellmore</td>\n",
       "      <td>34496</td>\n",
       "      <td>NY</td>\n",
       "      <td>fraud_Swaniawski, Nitzsche and Welch</td>\n",
       "      <td>health_fitness</td>\n",
       "      <td>41.28</td>\n",
       "      <td>2020-06-21</td>\n",
       "      <td>12:14:53</td>\n",
       "      <td>3598215285024754</td>\n",
       "      <td>c81755dbbbea9d5c77f094348a7579be</td>\n",
       "      <td>1371816893</td>\n",
       "      <td>0</td>\n",
       "      <td>20.0</td>\n",
       "    </tr>\n",
       "    <tr>\n",
       "      <th>3</th>\n",
       "      <td>Brian Williams</td>\n",
       "      <td>M</td>\n",
       "      <td>1987-07-25</td>\n",
       "      <td>Set designer</td>\n",
       "      <td>Titusville</td>\n",
       "      <td>54767</td>\n",
       "      <td>FL</td>\n",
       "      <td>fraud_Haley Group</td>\n",
       "      <td>misc_pos</td>\n",
       "      <td>60.05</td>\n",
       "      <td>2020-06-21</td>\n",
       "      <td>12:15:15</td>\n",
       "      <td>3591919803438423</td>\n",
       "      <td>2159175b9efe66dc301f149d3d5abf8c</td>\n",
       "      <td>1371816915</td>\n",
       "      <td>0</td>\n",
       "      <td>22.0</td>\n",
       "    </tr>\n",
       "    <tr>\n",
       "      <th>4</th>\n",
       "      <td>Nathan Massey</td>\n",
       "      <td>M</td>\n",
       "      <td>1955-07-06</td>\n",
       "      <td>Furniture designer</td>\n",
       "      <td>Falmouth</td>\n",
       "      <td>1126</td>\n",
       "      <td>MI</td>\n",
       "      <td>fraud_Johnston-Casper</td>\n",
       "      <td>travel</td>\n",
       "      <td>3.19</td>\n",
       "      <td>2020-06-21</td>\n",
       "      <td>12:15:17</td>\n",
       "      <td>3526826139003047</td>\n",
       "      <td>57ff021bd3f328f8738bb535c302a31b</td>\n",
       "      <td>1371816917</td>\n",
       "      <td>0</td>\n",
       "      <td>2.0</td>\n",
       "    </tr>\n",
       "  </tbody>\n",
       "</table>\n",
       "</div>"
      ],
      "text/plain": [
       "              Name gender       D.O.B                     job        city  \\\n",
       "0     Jeff Elliott      M  1968-03-19     Mechanical engineer    Columbia   \n",
       "1  Joanne Williams      F  1990-01-17  Sales professional, IT     Altonah   \n",
       "2     Ashley Lopez      F  1970-10-21       Librarian, public    Bellmore   \n",
       "3   Brian Williams      M  1987-07-25            Set designer  Titusville   \n",
       "4    Nathan Massey      M  1955-07-06      Furniture designer    Falmouth   \n",
       "\n",
       "   city_pop state                              merchant        category  \\\n",
       "0    333497    SC                 fraud_Kirlin and Sons   personal_care   \n",
       "1       302    UT                  fraud_Sporer-Keebler   personal_care   \n",
       "2     34496    NY  fraud_Swaniawski, Nitzsche and Welch  health_fitness   \n",
       "3     54767    FL                     fraud_Haley Group        misc_pos   \n",
       "4      1126    MI                 fraud_Johnston-Casper          travel   \n",
       "\n",
       "   amount  trans_date trans_time            cc_num  \\\n",
       "0    2.86  2020-06-21   12:14:25  2291163933867244   \n",
       "1   29.84  2020-06-21   12:14:33  3573030041201292   \n",
       "2   41.28  2020-06-21   12:14:53  3598215285024754   \n",
       "3   60.05  2020-06-21   12:15:15  3591919803438423   \n",
       "4    3.19  2020-06-21   12:15:17  3526826139003047   \n",
       "\n",
       "                          trans_num   unix_time  is_fraud  time  \n",
       "0  2da90c7d74bd46a0caf3777415b3ebd3  1371816865         0   NaN  \n",
       "1  324cc204407e99f51b0d6ca0055005e7  1371816873         0   8.0  \n",
       "2  c81755dbbbea9d5c77f094348a7579be  1371816893         0  20.0  \n",
       "3  2159175b9efe66dc301f149d3d5abf8c  1371816915         0  22.0  \n",
       "4  57ff021bd3f328f8738bb535c302a31b  1371816917         0   2.0  "
      ]
     },
     "execution_count": 19,
     "metadata": {},
     "output_type": "execute_result"
    }
   ],
   "source": [
    "creditcard['time'] = creditcard[['unix_time']].diff()\n",
    "creditcard.head()    "
   ]
  },
  {
   "cell_type": "code",
   "execution_count": 20,
   "metadata": {},
   "outputs": [],
   "source": [
    "#drop unnecessary columns\n",
    "creditcard.drop(obj_creditcard, axis=1, inplace=True)"
   ]
  },
  {
   "cell_type": "code",
   "execution_count": 21,
   "metadata": {},
   "outputs": [
    {
     "data": {
      "text/html": [
       "<div>\n",
       "<style scoped>\n",
       "    .dataframe tbody tr th:only-of-type {\n",
       "        vertical-align: middle;\n",
       "    }\n",
       "\n",
       "    .dataframe tbody tr th {\n",
       "        vertical-align: top;\n",
       "    }\n",
       "\n",
       "    .dataframe thead th {\n",
       "        text-align: right;\n",
       "    }\n",
       "</style>\n",
       "<table border=\"1\" class=\"dataframe\">\n",
       "  <thead>\n",
       "    <tr style=\"text-align: right;\">\n",
       "      <th></th>\n",
       "      <th>city_pop</th>\n",
       "      <th>amount</th>\n",
       "      <th>cc_num</th>\n",
       "      <th>unix_time</th>\n",
       "      <th>is_fraud</th>\n",
       "      <th>time</th>\n",
       "    </tr>\n",
       "  </thead>\n",
       "  <tbody>\n",
       "    <tr>\n",
       "      <th>0</th>\n",
       "      <td>333497</td>\n",
       "      <td>2.86</td>\n",
       "      <td>2291163933867244</td>\n",
       "      <td>1371816865</td>\n",
       "      <td>0</td>\n",
       "      <td>NaN</td>\n",
       "    </tr>\n",
       "    <tr>\n",
       "      <th>1</th>\n",
       "      <td>302</td>\n",
       "      <td>29.84</td>\n",
       "      <td>3573030041201292</td>\n",
       "      <td>1371816873</td>\n",
       "      <td>0</td>\n",
       "      <td>8.0</td>\n",
       "    </tr>\n",
       "    <tr>\n",
       "      <th>2</th>\n",
       "      <td>34496</td>\n",
       "      <td>41.28</td>\n",
       "      <td>3598215285024754</td>\n",
       "      <td>1371816893</td>\n",
       "      <td>0</td>\n",
       "      <td>20.0</td>\n",
       "    </tr>\n",
       "    <tr>\n",
       "      <th>3</th>\n",
       "      <td>54767</td>\n",
       "      <td>60.05</td>\n",
       "      <td>3591919803438423</td>\n",
       "      <td>1371816915</td>\n",
       "      <td>0</td>\n",
       "      <td>22.0</td>\n",
       "    </tr>\n",
       "    <tr>\n",
       "      <th>4</th>\n",
       "      <td>1126</td>\n",
       "      <td>3.19</td>\n",
       "      <td>3526826139003047</td>\n",
       "      <td>1371816917</td>\n",
       "      <td>0</td>\n",
       "      <td>2.0</td>\n",
       "    </tr>\n",
       "  </tbody>\n",
       "</table>\n",
       "</div>"
      ],
      "text/plain": [
       "   city_pop  amount            cc_num   unix_time  is_fraud  time\n",
       "0    333497    2.86  2291163933867244  1371816865         0   NaN\n",
       "1       302   29.84  3573030041201292  1371816873         0   8.0\n",
       "2     34496   41.28  3598215285024754  1371816893         0  20.0\n",
       "3     54767   60.05  3591919803438423  1371816915         0  22.0\n",
       "4      1126    3.19  3526826139003047  1371816917         0   2.0"
      ]
     },
     "execution_count": 21,
     "metadata": {},
     "output_type": "execute_result"
    }
   ],
   "source": [
    "creditcard.head()"
   ]
  },
  {
   "cell_type": "code",
   "execution_count": 22,
   "metadata": {},
   "outputs": [],
   "source": [
    "creditcard = creditcard.fillna(0)"
   ]
  },
  {
   "cell_type": "code",
   "execution_count": 23,
   "metadata": {},
   "outputs": [
    {
     "data": {
      "text/plain": [
       "((2145, 6), (553574, 6))"
      ]
     },
     "execution_count": 23,
     "metadata": {},
     "output_type": "execute_result"
    }
   ],
   "source": [
    "#Get the Fraud and the normal dataset \n",
    "fraud = creditcard[creditcard['is_fraud']==1]\n",
    "normal = creditcard[creditcard['is_fraud']==0]\n",
    "\n",
    "fraud.shape,normal.shape"
   ]
  },
  {
   "cell_type": "code",
   "execution_count": 24,
   "metadata": {},
   "outputs": [
    {
     "data": {
      "text/plain": [
       "count    2145.000000\n",
       "mean      528.356494\n",
       "std       392.747594\n",
       "min         1.780000\n",
       "25%       214.510000\n",
       "50%       371.940000\n",
       "75%       907.770000\n",
       "max      1320.920000\n",
       "Name: amount, dtype: float64"
      ]
     },
     "execution_count": 24,
     "metadata": {},
     "output_type": "execute_result"
    }
   ],
   "source": [
    "## We need to analyze more amount of information from the transaction data\n",
    "#How different are the amount of money used in fraud and normal data\n",
    "fraud.amount.describe()"
   ]
  },
  {
   "cell_type": "code",
   "execution_count": 25,
   "metadata": {},
   "outputs": [
    {
     "data": {
      "text/plain": [
       "count    553574.000000\n",
       "mean         67.614408\n",
       "std         152.471931\n",
       "min           1.000000\n",
       "25%           9.600000\n",
       "50%          47.150000\n",
       "75%          82.620000\n",
       "max       22768.110000\n",
       "Name: amount, dtype: float64"
      ]
     },
     "execution_count": 25,
     "metadata": {},
     "output_type": "execute_result"
    }
   ],
   "source": [
    "normal.amount.describe()"
   ]
  },
  {
   "cell_type": "code",
   "execution_count": 26,
   "metadata": {},
   "outputs": [
    {
     "data": {
      "image/png": "[encoded data removed]",
      "text/plain": [
       "<Figure size 864x720 with 2 Axes>"
      ]
     },
     "metadata": {
      "needs_background": "light"
     },
     "output_type": "display_data"
    }
   ],
   "source": [
    "f, (ax1, ax2) = plt.subplots(2, 1, figsize=(12,10), sharex=True)\n",
    "f.suptitle('Amount per Transaction by Type')\n",
    "bins = 50\n",
    "ax1.hist(fraud.amount, bins = bins)\n",
    "ax1.set_title('Fraud')\n",
    "ax2.hist(normal.amount, bins = bins)\n",
    "ax2.set_title('Normal')\n",
    "plt.xlabel('Amount ($)')\n",
    "plt.ylabel('Number of Transactions')\n",
    "plt.xlim((0, 20000))\n",
    "plt.yscale('log')\n",
    "plt.show()"
   ]
  },
  {
   "cell_type": "code",
   "execution_count": 27,
   "metadata": {},
   "outputs": [
    {
     "data": {
      "image/png": "[encoded data removed]",
      "text/plain": [
       "<Figure size 864x720 with 2 Axes>"
      ]
     },
     "metadata": {
      "needs_background": "light"
     },
     "output_type": "display_data"
    }
   ],
   "source": [
    "# Checking if fraudulent transactions occur more often during certain time frame\n",
    "f, (ax1, ax2) = plt.subplots(2, 1, figsize=(12,10) ,sharex=True)\n",
    "f.suptitle('Time of transaction vs Amount by class')\n",
    "ax1.scatter(fraud.time, fraud.amount)\n",
    "ax1.set_title('Fraud')\n",
    "ax2.scatter(normal.time, normal.amount)\n",
    "ax2.set_title('Normal')\n",
    "plt.xlabel('Time (in Seconds)')\n",
    "plt.ylabel('Amount')\n",
    "plt.show()"
   ]
  },
  {
   "cell_type": "code",
   "execution_count": 28,
   "metadata": {},
   "outputs": [
    {
     "data": {
      "image/png": "[encoded data removed]",
      "text/plain": [
       "<Figure size 864x864 with 6 Axes>"
      ]
     },
     "metadata": {
      "needs_background": "light"
     },
     "output_type": "display_data"
    }
   ],
   "source": [
    "#plot a histogram showing each parameter\n",
    "creditcard.hist(figsize=(12,12))\n",
    "plt.show()"
   ]
  },
  {
   "cell_type": "code",
   "execution_count": 29,
   "metadata": {},
   "outputs": [],
   "source": [
    "#Sample a fraction of the data\n",
    "creditcard1= creditcard.sample(frac = 0.1,random_state=1)"
   ]
  },
  {
   "cell_type": "code",
   "execution_count": 30,
   "metadata": {},
   "outputs": [
    {
     "data": {
      "image/png": "[encoded data removed]",
      "text/plain": [
       "<Figure size 1440x1440 with 2 Axes>"
      ]
     },
     "metadata": {
      "needs_background": "light"
     },
     "output_type": "display_data"
    }
   ],
   "source": [
    "#get correlations of each variable in dataset\n",
    "corrmat = creditcard1.corr()\n",
    "corr_features = corrmat.index\n",
    "plt.figure(figsize=(20,20))\n",
    "#plot heat map\n",
    "g=sns.heatmap(creditcard1[corr_features].corr(),annot=True,cmap=\"RdYlGn\")"
   ]
  },
  {
   "cell_type": "code",
   "execution_count": 31,
   "metadata": {},
   "outputs": [
    {
     "name": "stdout",
     "output_type": "stream",
     "text": [
      "(55572, 5)\n",
      "(55572,)\n"
     ]
    }
   ],
   "source": [
    "# Create independent and dependent variables\n",
    "columns = creditcard1.columns.tolist()\n",
    "# Filter the columns to remove data we do not want \n",
    "columns = [c for c in columns if c not in [\"is_fraud\"]]\n",
    "# Store the variable we are predicting \n",
    "target = \"is_fraud\"\n",
    "# Define a random state \n",
    "state = np.random.RandomState(42)\n",
    "X = creditcard1[columns]\n",
    "Y = creditcard1[target]\n",
    "X_outliers = state.uniform(low=0, high=1, size=(X.shape[0], X.shape[1]))\n",
    "# Print the shapes of X & Y\n",
    "print(X.shape)\n",
    "print(Y.shape)"
   ]
  },
  {
   "cell_type": "code",
   "execution_count": 32,
   "metadata": {},
   "outputs": [],
   "source": [
    "#standardization and normalization\n",
    "from sklearn.preprocessing import StandardScaler\n",
    "X = StandardScaler().fit_transform(X)\n",
    "Y= creditcard1[target]"
   ]
  },
  {
   "cell_type": "code",
   "execution_count": 33,
   "metadata": {},
   "outputs": [],
   "source": [
    "# Splitting the dataset\n",
    "from sklearn.model_selection import train_test_split\n",
    "\n",
    "X_train, X_test, y_train, y_test = train_test_split(X,Y, test_size=0.1, random_state=42)"
   ]
  },
  {
   "cell_type": "markdown",
   "metadata": {},
   "source": [
    "### Data Balancing"
   ]
  },
  {
   "cell_type": "markdown",
   "metadata": {},
   "source": [
    "The imbalanced training dataset will be balanced using OverSampling  "
   ]
  },
  {
   "cell_type": "code",
   "execution_count": 34,
   "metadata": {},
   "outputs": [
    {
     "name": "stdout",
     "output_type": "stream",
     "text": [
      "Requirement already up-to-date: imbalanced-learn in c:\\users\\nkemu\\anaconda3\\lib\\site-packages (0.8.0)\n",
      "Requirement already satisfied, skipping upgrade: scipy>=0.19.1 in c:\\users\\nkemu\\anaconda3\\lib\\site-packages (from imbalanced-learn) (1.5.0)\n",
      "Requirement already satisfied, skipping upgrade: joblib>=0.11 in c:\\users\\nkemu\\anaconda3\\lib\\site-packages (from imbalanced-learn) (0.16.0)\n",
      "Requirement already satisfied, skipping upgrade: scikit-learn>=0.24 in c:\\users\\nkemu\\anaconda3\\lib\\site-packages (from imbalanced-learn) (0.24.1)\n",
      "Requirement already satisfied, skipping upgrade: numpy>=1.13.3 in c:\\users\\nkemu\\anaconda3\\lib\\site-packages (from imbalanced-learn) (1.18.5)\n",
      "Requirement already satisfied, skipping upgrade: threadpoolctl>=2.0.0 in c:\\users\\nkemu\\anaconda3\\lib\\site-packages (from scikit-learn>=0.24->imbalanced-learn) (2.1.0)\n",
      "Note: you may need to restart the kernel to use updated packages.\n"
     ]
    }
   ],
   "source": [
    "pip install -U imbalanced-learn"
   ]
  },
  {
   "cell_type": "code",
   "execution_count": 35,
   "metadata": {},
   "outputs": [],
   "source": [
    "from imblearn.combine import SMOTETomek\n",
    "from imblearn.under_sampling import NearMiss"
   ]
  },
  {
   "cell_type": "code",
   "execution_count": 36,
   "metadata": {},
   "outputs": [],
   "source": [
    "#Implementing Oversampling for Handling Imbalanced \n",
    "smk = SMOTETomek(random_state=42)\n",
    "X_res,y_res=smk.fit_resample(X_train,y_train)"
   ]
  },
  {
   "cell_type": "code",
   "execution_count": 37,
   "metadata": {},
   "outputs": [
    {
     "data": {
      "text/plain": [
       "((99500, 5), (99500,))"
      ]
     },
     "execution_count": 37,
     "metadata": {},
     "output_type": "execute_result"
    }
   ],
   "source": [
    "X_res.shape,y_res.shape"
   ]
  },
  {
   "cell_type": "code",
   "execution_count": 38,
   "metadata": {},
   "outputs": [
    {
     "name": "stdout",
     "output_type": "stream",
     "text": [
      "Original dataset shape Counter({0: 49798, 1: 216})\n",
      "Resampled dataset shape Counter({0: 49750, 1: 49750})\n"
     ]
    }
   ],
   "source": [
    "from collections import Counter\n",
    "print('Original dataset shape {}'.format(Counter(y_train)))\n",
    "print('Resampled dataset shape {}'.format(Counter(y_res)))"
   ]
  },
  {
   "cell_type": "code",
   "execution_count": 39,
   "metadata": {},
   "outputs": [],
   "source": [
    "# Using RandomOverSampler\n",
    "from imblearn.over_sampling import RandomOverSampler"
   ]
  },
  {
   "cell_type": "code",
   "execution_count": 40,
   "metadata": {},
   "outputs": [],
   "source": [
    "os =  RandomOverSampler(sampling_strategy=0.6)"
   ]
  },
  {
   "cell_type": "code",
   "execution_count": 41,
   "metadata": {},
   "outputs": [],
   "source": [
    "X_train_R, y_train_R = os.fit_resample(X_train, y_train)"
   ]
  },
  {
   "cell_type": "code",
   "execution_count": 42,
   "metadata": {},
   "outputs": [
    {
     "data": {
      "text/plain": [
       "((79676, 5), (79676,))"
      ]
     },
     "execution_count": 42,
     "metadata": {},
     "output_type": "execute_result"
    }
   ],
   "source": [
    "X_train_R.shape,y_train_R.shape"
   ]
  },
  {
   "cell_type": "code",
   "execution_count": 43,
   "metadata": {},
   "outputs": [
    {
     "name": "stdout",
     "output_type": "stream",
     "text": [
      "Original dataset shape Counter({0: 49798, 1: 216})\n",
      "Resampled dataset shape Counter({0: 49798, 1: 29878})\n"
     ]
    }
   ],
   "source": [
    "print('Original dataset shape {}'.format(Counter(y_train)))\n",
    "print('Resampled dataset shape {}'.format(Counter(y_train_R)))"
   ]
  },
  {
   "cell_type": "markdown",
   "metadata": {},
   "source": [
    "### Model Selection"
   ]
  },
  {
   "cell_type": "code",
   "execution_count": 44,
   "metadata": {},
   "outputs": [],
   "source": [
    "from sklearn import svm # support vector machine\n",
    "from sklearn.ensemble import RandomForestClassifier #random forest\n",
    "from sklearn.neighbors import KNeighborsClassifier #KNN\n",
    "from sklearn.tree import DecisionTreeClassifier #Decision Tree\n",
    "from sklearn import metrics #accuracy measure "
   ]
  },
  {
   "cell_type": "code",
   "execution_count": 45,
   "metadata": {},
   "outputs": [
    {
     "name": "stdout",
     "output_type": "stream",
     "text": [
      "Accuracy for linear SVM is 0.973011874775099\n",
      "              precision    recall  f1-score   support\n",
      "\n",
      "           0       1.00      0.97      0.99      5534\n",
      "           1       0.12      0.83      0.21        24\n",
      "\n",
      "    accuracy                           0.97      5558\n",
      "   macro avg       0.56      0.90      0.60      5558\n",
      "weighted avg       1.00      0.97      0.98      5558\n",
      "\n"
     ]
    }
   ],
   "source": [
    "#Linear-SVM\n",
    "SVM= svm.SVC(kernel='linear',C=0.1, gamma=0.1)\n",
    "SVM.fit(X_train_R, y_train_R)\n",
    "prediction1=SVM.predict(X_test)\n",
    "print(\"Accuracy for linear SVM is\", metrics.accuracy_score(y_test, prediction1))\n",
    "print(metrics.classification_report(y_test, prediction1))"
   ]
  },
  {
   "cell_type": "code",
   "execution_count": 46,
   "metadata": {},
   "outputs": [
    {
     "name": "stdout",
     "output_type": "stream",
     "text": [
      "Accuracy of the Decision Tree Classifier is 0.9953220582943505\n",
      "              precision    recall  f1-score   support\n",
      "\n",
      "           0       1.00      1.00      1.00      5534\n",
      "           1       0.44      0.29      0.35        24\n",
      "\n",
      "    accuracy                           1.00      5558\n",
      "   macro avg       0.72      0.65      0.67      5558\n",
      "weighted avg       0.99      1.00      0.99      5558\n",
      "\n"
     ]
    }
   ],
   "source": [
    "# Decision Trees\n",
    "DTC= DecisionTreeClassifier()\n",
    "DTC.fit(X_train_R,y_train_R)\n",
    "prediction2=DTC.predict(X_test)\n",
    "print('Accuracy of the Decision Tree Classifier is', metrics.accuracy_score(y_test, prediction2))\n",
    "print(metrics.classification_report(y_test, prediction2))"
   ]
  },
  {
   "cell_type": "code",
   "execution_count": 47,
   "metadata": {},
   "outputs": [
    {
     "name": "stdout",
     "output_type": "stream",
     "text": [
      "Accuracy of the KNN is 0.9863260165527168\n",
      "              precision    recall  f1-score   support\n",
      "\n",
      "           0       1.00      0.99      0.99      5534\n",
      "           1       0.17      0.54      0.25        24\n",
      "\n",
      "    accuracy                           0.99      5558\n",
      "   macro avg       0.58      0.76      0.62      5558\n",
      "weighted avg       0.99      0.99      0.99      5558\n",
      "\n"
     ]
    }
   ],
   "source": [
    "#KNN\n",
    "KNN=KNeighborsClassifier(n_neighbors=10) # test for different values\n",
    "KNN.fit(X_train_R, y_train_R)\n",
    "prediction3=KNN.predict(X_test)\n",
    "print('Accuracy of the KNN is', metrics.accuracy_score(y_test, prediction3))\n",
    "print(metrics.classification_report(y_test, prediction3))"
   ]
  },
  {
   "cell_type": "code",
   "execution_count": 48,
   "metadata": {},
   "outputs": [
    {
     "name": "stdout",
     "output_type": "stream",
     "text": [
      "Accuracy of the Random Forest is 0.9960417416336812\n",
      "              precision    recall  f1-score   support\n",
      "\n",
      "           0       1.00      1.00      1.00      5534\n",
      "           1       0.60      0.25      0.35        24\n",
      "\n",
      "    accuracy                           1.00      5558\n",
      "   macro avg       0.80      0.62      0.68      5558\n",
      "weighted avg       1.00      1.00      1.00      5558\n",
      "\n"
     ]
    }
   ],
   "source": [
    "# Random Forset Classifier\n",
    "RFC=RandomForestClassifier(n_estimators=100) # test for different values\n",
    "RFC.fit(X_train_R, y_train_R)\n",
    "prediction4=RFC.predict(X_test)\n",
    "print('Accuracy of the Random Forest is', metrics.accuracy_score(y_test,prediction4))\n",
    "print(metrics.classification_report(y_test, prediction4))"
   ]
  },
  {
   "cell_type": "code",
   "execution_count": 49,
   "metadata": {},
   "outputs": [
    {
     "data": {
      "image/png": "[encoded data removed]",
      "text/plain": [
       "<Figure size 864x720 with 8 Axes>"
      ]
     },
     "metadata": {
      "needs_background": "light"
     },
     "output_type": "display_data"
    }
   ],
   "source": [
    "from sklearn.metrics import confusion_matrix\n",
    "from sklearn.model_selection import cross_val_predict #prediction\n",
    "\n",
    "f,ax=plt.subplots(2,2,figsize=(12,10))\n",
    "y_pred = cross_val_predict(DecisionTreeClassifier(),X,Y,cv=10)\n",
    "sns.heatmap(confusion_matrix(Y,y_pred),ax=ax[0,0],annot=True,fmt='2.0f')\n",
    "ax[0,0].set_title('Matrix for Decision Tree')\n",
    "\n",
    "y_pred = cross_val_predict(svm.SVC(kernel='linear'),X,Y,cv=10)\n",
    "sns.heatmap(confusion_matrix(Y,y_pred),ax=ax[0,1],annot=True,fmt='2.0f')\n",
    "ax[0,1].set_title('Matrix for Linear-SVM')\n",
    "\n",
    "y_pred = cross_val_predict(KNeighborsClassifier(n_neighbors=9),X,Y,cv=10)\n",
    "sns.heatmap(confusion_matrix(Y,y_pred),ax=ax[1,0],annot=True,fmt='2.0f')\n",
    "ax[1,0].set_title('Matrix for KNN')\n",
    "\n",
    "y_pred = cross_val_predict(RandomForestClassifier(n_estimators=100),X,Y,cv=10)\n",
    "sns.heatmap(confusion_matrix(Y,y_pred),ax=ax[1,1],annot=True,fmt='2.0f')\n",
    "ax[1,1].set_title('Matrix for Random-Forests')\n",
    "\n",
    "\n",
    "plt.subplots_adjust(hspace=0.2, wspace=0.2)\n",
    "plt.show()"
   ]
  },
  {
   "cell_type": "markdown",
   "metadata": {},
   "source": [
    "### Model Evaluation"
   ]
  },
  {
   "cell_type": "markdown",
   "metadata": {},
   "source": [
    "We will be using the ROC AUC curve to evaluate the models"
   ]
  },
  {
   "cell_type": "code",
   "execution_count": 50,
   "metadata": {},
   "outputs": [
    {
     "data": {
      "image/png": "[encoded data removed]",
      "text/plain": [
       "<Figure size 432x288 with 1 Axes>"
      ]
     },
     "metadata": {
      "needs_background": "light"
     },
     "output_type": "display_data"
    }
   ],
   "source": [
    "# ROC Curve For SVM\n",
    "from sklearn.metrics import roc_auc_score\n",
    "from sklearn.metrics import roc_curve\n",
    "from sklearn import svm\n",
    "SVM= svm.SVC(kernel='linear',C=0.1, gamma=0.1, probability=True)\n",
    "SVM.fit(X_train_R, y_train_R)\n",
    "SVM_roc_auc = roc_auc_score(y_test, SVM.predict(X_test))\n",
    "fpr, tpr, thresholds= roc_curve(y_test, SVM.predict_proba(X_test)[:,1])\n",
    "plt.figure()\n",
    "plt.plot(fpr, tpr, label='Support Vector Machine (area = {})'.format(SVM_roc_auc))\n",
    "plt.plot([0, 1], [0, 1],'r--')\n",
    "plt.xlim([0.0, 1.0])\n",
    "plt.ylim([0.0, 1.05])\n",
    "plt.xlabel('False Positive Rate')\n",
    "plt.ylabel('True Positive Rate ')\n",
    "plt.title('Receiver operating characteristic')\n",
    "plt.legend(loc=\"lower right\")\n",
    "plt.show()"
   ]
  },
  {
   "cell_type": "code",
   "execution_count": 51,
   "metadata": {},
   "outputs": [
    {
     "data": {
      "image/png": "[encoded data removed]",
      "text/plain": [
       "<Figure size 432x288 with 1 Axes>"
      ]
     },
     "metadata": {
      "needs_background": "light"
     },
     "output_type": "display_data"
    }
   ],
   "source": [
    "# ROC curve for Decision Trees\n",
    "from sklearn.metrics import roc_auc_score\n",
    "from sklearn.metrics import roc_curve\n",
    "from sklearn.tree import DecisionTreeClassifier\n",
    "DTC_roc_auc = roc_auc_score(y_test, DTC.predict(X_test))\n",
    "fpr, tpr, thresholds= roc_curve(y_test, DTC.predict_proba(X_test)[:,1])\n",
    "plt.figure()\n",
    "plt.plot(fpr, tpr, label='Decison Tree Classifier (area = {})'.format(DTC_roc_auc))\n",
    "plt.plot([0, 1], [0, 1],'r--')\n",
    "plt.xlim([0.0, 1.0])\n",
    "plt.ylim([0.0, 1.05])\n",
    "plt.xlabel('False Positive Rate')\n",
    "plt.ylabel('True Positive Rate ')\n",
    "plt.title('Receiver operating characteristic')\n",
    "plt.legend(loc=\"lower right\")\n",
    "plt.show()"
   ]
  },
  {
   "cell_type": "code",
   "execution_count": 52,
   "metadata": {},
   "outputs": [
    {
     "data": {
      "image/png": "[encoded data removed]",
      "text/plain": [
       "<Figure size 432x288 with 1 Axes>"
      ]
     },
     "metadata": {
      "needs_background": "light"
     },
     "output_type": "display_data"
    }
   ],
   "source": [
    "#ROC Curve for KNN\n",
    "from sklearn.metrics import roc_auc_score\n",
    "from sklearn.metrics import roc_curve\n",
    "KNN_roc_auc = roc_auc_score(y_test, KNN.predict(X_test))\n",
    "fpr, tpr, thresholds= roc_curve(y_test, KNN.predict_proba(X_test)[:,1])\n",
    "plt.figure()\n",
    "plt.plot(fpr, tpr, label='K Nearest Neighbor (area = {})'.format(KNN_roc_auc))\n",
    "plt.plot([0, 1], [0, 1],'r--')\n",
    "plt.xlim([0.0, 1.0])\n",
    "plt.ylim([0.0, 1.05])\n",
    "plt.xlabel('False Positive Rate')\n",
    "plt.ylabel('True Positive Rate ')\n",
    "plt.title('Receiver operating characteristic')\n",
    "plt.legend(loc=\"lower right\")\n",
    "plt.show()"
   ]
  },
  {
   "cell_type": "code",
   "execution_count": 53,
   "metadata": {},
   "outputs": [
    {
     "data": {
      "image/png": "[encoded data removed]",
      "text/plain": [
       "<Figure size 432x288 with 1 Axes>"
      ]
     },
     "metadata": {
      "needs_background": "light"
     },
     "output_type": "display_data"
    }
   ],
   "source": [
    "# ROC curve for Random Forest\n",
    "from sklearn.metrics import roc_auc_score\n",
    "from sklearn.metrics import roc_curve\n",
    "RFC_roc_auc = roc_auc_score(y_test, RFC.predict(X_test))\n",
    "fpr, tpr, thresholds= roc_curve(y_test, RFC.predict_proba(X_test)[:,1])\n",
    "plt.figure()\n",
    "plt.plot(fpr, tpr, alpha=0.8, label='Random Forest Classifier (area = {})'.format(RFC_roc_auc))\n",
    "plt.plot([0, 1], [0, 1],'r--')\n",
    "plt.xlim([0.0, 1.0])\n",
    "plt.ylim([0.0, 1.05])\n",
    "plt.xlabel('False Positive Rate')\n",
    "plt.ylabel('True Positive Rate ')\n",
    "plt.title('Receiver operating characteristic')\n",
    "plt.legend(loc=\"lower right\")\n",
    "plt.show()"
   ]
  },
  {
   "cell_type": "markdown",
   "metadata": {},
   "source": [
    "\n",
    "\n",
    "\n",
    "[Back to top](#Table-of-contents)"
   ]
  },
  {
   "cell_type": "markdown",
   "metadata": {},
   "source": [
    "## Conclusion\n",
    "The results of the model evaluation based on the accuracy answered the initial hypothesis which corresponded to the probability of fraud detection being very small compared to that of normal transactions.\n",
    "\n",
    "The ROC_AUC metric used in evaluating all the models have shown that out of the 4 models, the Random Forest Classifier is the best performing model because it detected the highest percentage of fraud even though it had the least accuracy. The Support Vector Machines had the best accuracy but had the least percentage of fraud detection.\n",
    "\n",
    "In conclusion, I recommend that the model be implemented and deployed so that it can be incorporated into fraud detection systems to detect credit card fraud in financial transactions of businesses and institutions.\n",
    "\n",
    "[Back to top](#Table-of-contents)"
   ]
  },
  {
   "cell_type": "markdown",
   "metadata": {},
   "source": [
    "## References\n",
    "\n",
    "Pedregosa et al (2011). Scikit-learn: Machine Learning in Python. Journal of Machine Learning, 2825-2830.\n",
    "\n",
    "Brandon Harris, Kartik. S. (2020). Credit Card Fraud Detection Dataset. Retrieved from kaggle.com: https://www.kaggle.com/kartik2112/fraud-detection\n",
    " \n",
    "Naik, Krish. C. (2019, June 25). gitbub.com/Krishnaik06. Retrieved from github.com: https://github.com/krishnaik06/Credit-Card-Fraudlent\n",
    "\n",
    "Naik, Krish. C. (2019, June 27). github.com/krishnaik06. Retrieved from github.com: https://github.com/krishnaik06/Handle-Imbalanced-Dataset\n",
    "\n",
    "Suresh K.S, Chetan J.A, Rashmi M., Sonam S.P (October 2019). A Review On Credit Card Fraud Detection Using Machine Learning. International Journal of Scientific & Technology Research, 1217-1220.\n",
    "\n",
    "V.Dheepa, D. R. (2009). Analysis of Credit Card Fraud Detection Methods. International Journal of Recent Trends in Engineering, Vol 2, No. 3, 126-128.\n",
    "\n",
    "\n",
    "\n",
    "[Back to top](#Table-of-contents)"
   ]
  },
  {
   "cell_type": "code",
   "execution_count": null,
   "metadata": {},
   "outputs": [],
   "source": []
  }
 ],
 "metadata": {
  "kernelspec": {
   "display_name": "Python 3",
   "language": "python",
   "name": "python3"
  },
  "language_info": {
   "codemirror_mode": {
    "name": "ipython",
    "version": 3
   },
   "file_extension": ".py",
   "mimetype": "text/x-python",
   "name": "python",
   "nbconvert_exporter": "python",
   "pygments_lexer": "ipython3",
   "version": "3.8.3"
  }
 },
 "nbformat": 4,
 "nbformat_minor": 4
}
